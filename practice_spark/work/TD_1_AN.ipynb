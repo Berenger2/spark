{
 "cells": [
  {
   "cell_type": "code",
   "execution_count": 1,
   "metadata": {},
   "outputs": [],
   "source": [
    "from pyspark.sql import SparkSession\n",
    "from pyspark.sql.types import *\n",
    "from pyspark.sql import functions as F\n",
    "from pyspark.sql.types import *\n",
    "from pyspark.sql.functions import *\n",
    "from pyspark.sql.window import Window"
   ]
  },
  {
   "cell_type": "code",
   "execution_count": 2,
   "metadata": {},
   "outputs": [
    {
     "data": {
      "text/plain": [
       "[('STATION', 'bigint'),\n",
       " ('DATE', 'date'),\n",
       " ('LATITUDE', 'double'),\n",
       " ('LONGITUDE', 'double'),\n",
       " ('ELEVATION', 'double'),\n",
       " ('NAME', 'string'),\n",
       " ('TEMP', 'double'),\n",
       " ('TEMP_ATTRIBUTES', 'double'),\n",
       " ('DEWP', 'double'),\n",
       " ('DEWP_ATTRIBUTES', 'double'),\n",
       " ('SLP', 'double'),\n",
       " ('SLP_ATTRIBUTES', 'double'),\n",
       " ('STP', 'double'),\n",
       " ('STP_ATTRIBUTES', 'double'),\n",
       " ('VISIB', 'double'),\n",
       " ('VISIB_ATTRIBUTES', 'double'),\n",
       " ('WDSP', 'double'),\n",
       " ('WDSP_ATTRIBUTES', 'double'),\n",
       " ('MXSPD', 'double'),\n",
       " ('GUST', 'double'),\n",
       " ('MAX', 'double'),\n",
       " ('MAX_ATTRIBUTES', 'string'),\n",
       " ('MIN', 'double'),\n",
       " ('MIN_ATTRIBUTES', 'string'),\n",
       " ('PRCP', 'double'),\n",
       " ('PRCP_ATTRIBUTES', 'string'),\n",
       " ('SNDP', 'double'),\n",
       " ('FRSHTT', 'int')]"
      ]
     },
     "execution_count": 2,
     "metadata": {},
     "output_type": "execute_result"
    }
   ],
   "source": [
    "# Créer ou obtenir une session Spark active\n",
    "spark = SparkSession.builder \\\n",
    "    .appName(\"Meteo Analysis\") \\\n",
    "    .config(\"spark.network.timeout\", \"14400s\") \\\n",
    "    .config(\"spark.executor.memory\", \"10g\") \\\n",
    "    .config(\"spark.driver.memory\", \"10g\") \\\n",
    "    .getOrCreate()\n",
    "\n",
    "# Définir le chemin vers les fichiers CSV contenant les données des cyclistes\n",
    "path = \"./datas/1929/*.csv\"\n",
    "\n",
    "# Charger les données CSV dans un DataFrame Spark\n",
    "climat = spark.read.load(path, format = \"csv\", header=True, inferSchema=\"True\")\n",
    "\n",
    "# Afficher les types de données (schéma) de chaque colonne dans le DataFrame\n",
    "climat.dtypes"
   ]
  },
  {
   "cell_type": "code",
   "execution_count": 3,
   "metadata": {},
   "outputs": [
    {
     "name": "stdout",
     "output_type": "stream",
     "text": [
      "root\n",
      " |-- STATION: long (nullable = true)\n",
      " |-- DATE: date (nullable = true)\n",
      " |-- LATITUDE: double (nullable = true)\n",
      " |-- LONGITUDE: double (nullable = true)\n",
      " |-- ELEVATION: double (nullable = true)\n",
      " |-- NAME: string (nullable = true)\n",
      " |-- TEMP: double (nullable = true)\n",
      " |-- TEMP_ATTRIBUTES: double (nullable = true)\n",
      " |-- DEWP: double (nullable = true)\n",
      " |-- DEWP_ATTRIBUTES: double (nullable = true)\n",
      " |-- SLP: double (nullable = true)\n",
      " |-- SLP_ATTRIBUTES: double (nullable = true)\n",
      " |-- STP: double (nullable = true)\n",
      " |-- STP_ATTRIBUTES: double (nullable = true)\n",
      " |-- VISIB: double (nullable = true)\n",
      " |-- VISIB_ATTRIBUTES: double (nullable = true)\n",
      " |-- WDSP: double (nullable = true)\n",
      " |-- WDSP_ATTRIBUTES: double (nullable = true)\n",
      " |-- MXSPD: double (nullable = true)\n",
      " |-- GUST: double (nullable = true)\n",
      " |-- MAX: double (nullable = true)\n",
      " |-- MAX_ATTRIBUTES: string (nullable = true)\n",
      " |-- MIN: double (nullable = true)\n",
      " |-- MIN_ATTRIBUTES: string (nullable = true)\n",
      " |-- PRCP: double (nullable = true)\n",
      " |-- PRCP_ATTRIBUTES: string (nullable = true)\n",
      " |-- SNDP: double (nullable = true)\n",
      " |-- FRSHTT: integer (nullable = true)\n",
      "\n"
     ]
    },
    {
     "data": {
      "text/plain": [
       "(2081, 28)"
      ]
     },
     "execution_count": 3,
     "metadata": {},
     "output_type": "execute_result"
    }
   ],
   "source": [
    "# Inspection du schéma et calcul des statistiques\n",
    "climat.printSchema()\n",
    "climat.count(), len(climat.columns)"
   ]
  },
  {
   "cell_type": "code",
   "execution_count": 4,
   "metadata": {},
   "outputs": [
    {
     "data": {
      "text/plain": [
       "2081"
      ]
     },
     "execution_count": 4,
     "metadata": {},
     "output_type": "execute_result"
    }
   ],
   "source": [
    "climat.count()"
   ]
  },
  {
   "cell_type": "code",
   "execution_count": 5,
   "metadata": {},
   "outputs": [
    {
     "name": "stdout",
     "output_type": "stream",
     "text": [
      "root\n",
      " |-- STATION: long (nullable = true)\n",
      " |-- DATE: date (nullable = true)\n",
      " |-- LATITUDE: double (nullable = true)\n",
      " |-- LONGITUDE: double (nullable = true)\n",
      " |-- ELEVATION: double (nullable = true)\n",
      " |-- NAME: string (nullable = true)\n",
      " |-- TEMP: double (nullable = true)\n",
      " |-- TEMP_ATTRIBUTES: double (nullable = true)\n",
      " |-- DEWP: double (nullable = true)\n",
      " |-- DEWP_ATTRIBUTES: double (nullable = true)\n",
      " |-- SLP: double (nullable = true)\n",
      " |-- SLP_ATTRIBUTES: double (nullable = true)\n",
      " |-- STP: double (nullable = true)\n",
      " |-- STP_ATTRIBUTES: double (nullable = true)\n",
      " |-- VISIB: double (nullable = true)\n",
      " |-- VISIB_ATTRIBUTES: double (nullable = true)\n",
      " |-- WDSP: double (nullable = true)\n",
      " |-- WDSP_ATTRIBUTES: double (nullable = true)\n",
      " |-- MXSPD: double (nullable = true)\n",
      " |-- GUST: double (nullable = true)\n",
      " |-- MAX: double (nullable = true)\n",
      " |-- MAX_ATTRIBUTES: string (nullable = true)\n",
      " |-- MIN: double (nullable = true)\n",
      " |-- MIN_ATTRIBUTES: string (nullable = true)\n",
      " |-- PRCP: double (nullable = true)\n",
      " |-- PRCP_ATTRIBUTES: string (nullable = true)\n",
      " |-- SNDP: double (nullable = true)\n",
      " |-- FRSHTT: integer (nullable = true)\n",
      "\n"
     ]
    }
   ],
   "source": [
    "climat.printSchema()"
   ]
  },
  {
   "cell_type": "code",
   "execution_count": 6,
   "metadata": {},
   "outputs": [
    {
     "data": {
      "text/plain": [
       "21"
      ]
     },
     "execution_count": 6,
     "metadata": {},
     "output_type": "execute_result"
    }
   ],
   "source": [
    "climat.select(\"STATION\").distinct().count()"
   ]
  },
  {
   "cell_type": "code",
   "execution_count": 7,
   "metadata": {},
   "outputs": [],
   "source": [
    "# Identifier les colonnes avec des valeurs manquantes et les traiter\n",
    "missing_values = climat.select([F.count(F.when(F.col(c).isNull(), c)) for c in climat.columns])"
   ]
  },
  {
   "cell_type": "code",
   "execution_count": 8,
   "metadata": {},
   "outputs": [],
   "source": [
    "# Supprimer les lignes avec des valeurs critiques manquantes\n",
    "climat_annee_delete = climat.dropna(subset=['TEMP', 'DATE'])"
   ]
  },
  {
   "cell_type": "code",
   "execution_count": 9,
   "metadata": {},
   "outputs": [
    {
     "name": "stdout",
     "output_type": "stream",
     "text": [
      "{'STATION': 0, 'DATE': 0, 'LATITUDE': 89, 'LONGITUDE': 89, 'ELEVATION': 89, 'NAME': 89, 'TEMP': 0, 'TEMP_ATTRIBUTES': 0, 'DEWP': 0, 'DEWP_ATTRIBUTES': 0, 'SLP': 0, 'SLP_ATTRIBUTES': 0, 'STP': 0, 'STP_ATTRIBUTES': 0, 'VISIB': 0, 'VISIB_ATTRIBUTES': 0, 'WDSP': 0, 'WDSP_ATTRIBUTES': 0, 'MXSPD': 0, 'GUST': 0, 'MAX': 0, 'MAX_ATTRIBUTES': 0, 'MIN': 0, 'MIN_ATTRIBUTES': 0, 'PRCP': 0, 'PRCP_ATTRIBUTES': 0, 'SNDP': 0, 'FRSHTT': 0}\n"
     ]
    }
   ],
   "source": [
    "# Calculer le nombre de valeurs manquantes pour chaque colonne\n",
    "missing_values = climat.select(\n",
    "    [count(when(col(c).isNull(), c)).alias(c) for c in climat.columns]\n",
    ")\n",
    "\n",
    "# Afficher chaque ligne (ici une seule ligne avec les résultats pour chaque colonne)\n",
    "for row in missing_values.collect():\n",
    "    print(row.asDict())"
   ]
  },
  {
   "cell_type": "code",
   "execution_count": 10,
   "metadata": {},
   "outputs": [
    {
     "name": "stdout",
     "output_type": "stream",
     "text": [
      "Nombre d'enregistrements après nettoyage : 1992\n"
     ]
    }
   ],
   "source": [
    "# Supprimer les lignes avec des valeurs manquantes dans n'importe quelle colonne\n",
    "drop_climat = climat.dropna()\n",
    "\n",
    "# Compter le nombre d'enregistrements restants après nettoyage\n",
    "remaining_records = drop_climat.count()\n",
    "\n",
    "print(f\"Nombre d'enregistrements après nettoyage : {remaining_records}\")"
   ]
  },
  {
   "cell_type": "code",
   "execution_count": 11,
   "metadata": {},
   "outputs": [
    {
     "name": "stdout",
     "output_type": "stream",
     "text": [
      "Nombre d'enregistrements après nettoyage : 2081\n"
     ]
    }
   ],
   "source": [
    "#Pour l'ensemble de notre étude, nous avons choisi d'adopter la méthode d'imputation des \n",
    "#valeurs manquantes en utilisant une valeur fixe, telle que la moyenne, la médiane, ou d'autres \n",
    "#valeurs appropriées.\n",
    "\n",
    "# Récupérer la liste des colonnes numériques\n",
    "numeric_columns = [field.name for field in climat.schema.fields if isinstance(field.dataType, (IntegerType, DoubleType))]\n",
    "\n",
    "# Calculer la moyenne de chaque colonne numérique et remplir les valeurs manquantes\n",
    "mean_values = climat.select([F.mean(c).alias(c) for c in numeric_columns]).collect()[0].asDict()\n",
    "\n",
    "# Remplacer les valeurs manquantes pour chaque colonne par la moyenne\n",
    "climat_cleaned = climat.fillna(mean_values)\n",
    "\n",
    "# Afficher le nombre d'enregistrements après nettoyage\n",
    "remaining_records = climat_cleaned.count()\n",
    "print(f\"Nombre d'enregistrements après nettoyage : {remaining_records}\")"
   ]
  },
  {
   "cell_type": "code",
   "execution_count": 12,
   "metadata": {},
   "outputs": [
    {
     "name": "stdout",
     "output_type": "stream",
     "text": [
      "+----+------+\n",
      "|TEMP|TEMP_C|\n",
      "+----+------+\n",
      "|57.6|  14.2|\n",
      "|55.4|  13.0|\n",
      "|58.8|  14.9|\n",
      "|62.7|  17.1|\n",
      "|58.8|  14.9|\n",
      "|59.5|  15.3|\n",
      "|60.0|  15.6|\n",
      "|59.3|  15.2|\n",
      "|59.4|  15.2|\n",
      "|62.4|  16.9|\n",
      "|62.2|  16.8|\n",
      "|59.0|  15.0|\n",
      "|59.0|  15.0|\n",
      "|61.8|  16.6|\n",
      "|58.6|  14.8|\n",
      "|61.0|  16.1|\n",
      "|60.5|  15.8|\n",
      "|57.0|  13.9|\n",
      "|55.6|  13.1|\n",
      "|59.0|  15.0|\n",
      "+----+------+\n",
      "only showing top 20 rows\n",
      "\n",
      "Colonnes restantes : ['STATION', 'DATE', 'LATITUDE', 'LONGITUDE', 'ELEVATION', 'NAME', 'TEMP', 'DEWP', 'SLP', 'STP', 'VISIB', 'WDSP', 'MXSPD', 'GUST', 'MAX', 'MIN', 'PRCP', 'SNDP', 'FRSHTT', 'TEMP_C']\n"
     ]
    }
   ],
   "source": [
    "def remove_unwanted_columns(climat_cleaned: DataFrame, columns_to_remove: list) -> DataFrame:\n",
    "    \"\"\"\n",
    "    Supprime les colonnes spécifiées d'un DataFrame PySpark.\n",
    "    \n",
    "    :param df: DataFrame d'entrée\n",
    "    :param columns_to_remove: Liste des colonnes à supprimer\n",
    "    :return: DataFrame nettoyé sans les colonnes spécifiées\n",
    "    \"\"\"\n",
    "    return climat_cleaned.drop(*columns_to_remove)\n",
    "\n",
    "# Liste des colonnes à supprimer\n",
    "columns_to_remove = [\n",
    "    \"TEMP_ATTRIBUTES\",\n",
    "    \"DEWP_ATTRIBUTES\",\n",
    "    \"SLP_ATTRIBUTES\",\n",
    "    \"STP_ATTRIBUTES\",\n",
    "    \"VISIB_ATTRIBUTES\",\n",
    "    \"WDSP_ATTRIBUTES\",\n",
    "    \"MAX_ATTRIBUTES\",\n",
    "    \"MIN_ATTRIBUTES\",\n",
    "    \"PRCP_ATTRIBUTES\"\n",
    "]\n",
    "\n",
    "# Suppression des colonnes dans le DataFrame climat\n",
    "climat_col_cleaned = remove_unwanted_columns(climat_cleaned, columns_to_remove)\n",
    "#Rajout de la colonne Celcius\n",
    "climat_col_cleaned = climat_col_cleaned.withColumn(\"TEMP_C\", bround((col(\"TEMP\") - 32) / 1.8, 1))\n",
    " \n",
    "# Afficher le DataFrame avec les colonnes 'TEMP' et 'TEMP_C' arrondies\n",
    "climat_col_cleaned.select(\"TEMP\", \"TEMP_C\").show()\n",
    "# Afficher les colonnes restantes pour vérifier\n",
    "print(\"Colonnes restantes :\", climat_col_cleaned.columns)"
   ]
  },
  {
   "cell_type": "code",
   "execution_count": 13,
   "metadata": {
    "scrolled": true
   },
   "outputs": [
    {
     "name": "stdout",
     "output_type": "stream",
     "text": [
      "+----------+----------+--------+---------+---------+-------------+----+----+------+-----+-----+----+-----+-----+----+----+-----+-----+------+------+----+-----+---+------+\n",
      "|   STATION|      DATE|LATITUDE|LONGITUDE|ELEVATION|         NAME|TEMP|DEWP|   SLP|  STP|VISIB|WDSP|MXSPD| GUST| MAX| MIN| PRCP| SNDP|FRSHTT|TEMP_C|year|month|day|is_hot|\n",
      "+----------+----------+--------+---------+---------+-------------+----+----+------+-----+-----+----+-----+-----+----+----+-----+-----+------+------+----+-----+---+------+\n",
      "|3497099999|1929-08-01|  52.583|    1.717|      3.0|GORLESTON, UK|57.6|54.8| 991.5|999.9|  4.7|14.0| 18.1|999.9|66.9|55.0| 0.12|999.9| 10000|  14.2|1929|    8|  1| false|\n",
      "|3497099999|1929-08-02|  52.583|    1.717|      3.0|GORLESTON, UK|55.4|47.8|1012.0|999.9|  6.2| 6.0|  8.9|999.9|63.0|48.9|  0.0|999.9|     0|  13.0|1929|    8|  2| false|\n",
      "|3497099999|1929-08-03|  52.583|    1.717|      3.0|GORLESTON, UK|58.8|52.7|1014.0|999.9|  4.7|14.2| 18.1|999.9|63.0|54.0|99.99|999.9| 10000|  14.9|1929|    8|  3| false|\n",
      "|3497099999|1929-08-04|  52.583|    1.717|      3.0|GORLESTON, UK|62.7|57.5|1004.6|999.9|  4.3|18.3| 23.9|999.9|66.9|57.0|99.99|999.9| 10000|  17.1|1929|    8|  4| false|\n",
      "|3497099999|1929-08-05|  52.583|    1.717|      3.0|GORLESTON, UK|58.8|48.8|1008.9|999.9|  4.7| 7.4|  8.9|999.9|68.0|54.0| 0.02|999.9|     0|  14.9|1929|    8|  5| false|\n",
      "|3497099999|1929-08-06|  52.583|    1.717|      3.0|GORLESTON, UK|59.5|57.3|1008.3|999.9|  2.5|15.8| 18.1|999.9|64.9|55.9|99.99|999.9| 10000|  15.3|1929|    8|  6| false|\n",
      "|3497099999|1929-08-07|  52.583|    1.717|      3.0|GORLESTON, UK|60.0|56.0|1006.4|999.9|  5.5| 8.2|  8.9|999.9|64.9|54.0| 0.08|999.9| 10000|  15.6|1929|    8|  7| false|\n",
      "|3497099999|1929-08-08|  52.583|    1.717|      3.0|GORLESTON, UK|59.3|50.8|1014.7|999.9|  5.3| 8.2| 13.0|999.9|68.0|54.0|99.99|999.9| 10000|  15.2|1929|    8|  8| false|\n",
      "|3497099999|1929-08-09|  52.583|    1.717|      3.0|GORLESTON, UK|59.4|53.2|1015.6|999.9|  4.0| 7.4|  8.9|999.9|66.9|53.1|  0.0|999.9|     0|  15.2|1929|    8|  9| false|\n",
      "|3497099999|1929-08-10|  52.583|    1.717|      3.0|GORLESTON, UK|62.4|55.4|1017.6|999.9|  2.5| 6.6|  8.9|999.9|69.1|55.9|  0.0|999.9|     0|  16.9|1929|    8| 10| false|\n",
      "|3497099999|1929-08-11|  52.583|    1.717|      3.0|GORLESTON, UK|62.2|57.8|1016.8|999.9|  4.7| 9.0| 13.0|999.9|69.1|57.0|  0.0|999.9|     0|  16.8|1929|    8| 11| false|\n",
      "|3497099999|1929-08-12|  52.583|    1.717|      3.0|GORLESTON, UK|59.0|49.8|1020.8|999.9|  4.7| 9.0| 13.0|999.9|72.0|48.9|  0.0|999.9|     0|  15.0|1929|    8| 12| false|\n",
      "|3497099999|1929-08-13|  52.583|    1.717|      3.0|GORLESTON, UK|59.0|54.8|1022.7|999.9|  3.2| 6.4| 13.0|999.9|71.1|51.1|  0.0|999.9|     0|  15.0|1929|    8| 13| false|\n",
      "|3497099999|1929-08-14|  52.583|    1.717|      3.0|GORLESTON, UK|61.8|53.7|1018.0|999.9|  4.0| 5.1|  5.1|999.9|69.1|55.0|  0.0|999.9|     0|  16.6|1929|    8| 14| false|\n",
      "|3497099999|1929-08-15|  52.583|    1.717|      3.0|GORLESTON, UK|58.6|55.7|1019.4|999.9|  3.2| 5.8|  8.9|999.9|71.1|50.0|  0.0|999.9|     0|  14.8|1929|    8| 15| false|\n",
      "|3497099999|1929-08-16|  52.583|    1.717|      3.0|GORLESTON, UK|61.0|54.7|1015.0|999.9|  3.4| 7.0| 13.0|999.9|68.0|55.0|  0.0|999.9|     0|  16.1|1929|    8| 16| false|\n",
      "|3497099999|1929-08-17|  52.583|    1.717|      3.0|GORLESTON, UK|60.5|54.2|1008.5|999.9|  5.3|11.3| 18.1|999.9|66.0|57.0|99.99|999.9| 10000|  15.8|1929|    8| 17| false|\n",
      "|3497099999|1929-08-18|  52.583|    1.717|      3.0|GORLESTON, UK|57.0|52.1|1014.4|999.9|  3.2| 9.8| 13.0|999.9|70.0|52.0|  0.0|999.9|     0|  13.9|1929|    8| 18| false|\n",
      "|3497099999|1929-08-19|  52.583|    1.717|      3.0|GORLESTON, UK|55.6|49.0|1023.7|999.9|  3.2| 4.0|  8.9|999.9|63.0|43.0|  0.0|999.9|     0|  13.1|1929|    8| 19| false|\n",
      "|3497099999|1929-08-20|  52.583|    1.717|      3.0|GORLESTON, UK|59.0|51.0|1022.1|999.9|  3.4| 4.5|  8.9|999.9|64.9|53.1|  0.0|999.9|     0|  15.0|1929|    8| 20| false|\n",
      "+----------+----------+--------+---------+---------+-------------+----+----+------+-----+-----+----+-----+-----+----+----+-----+-----+------+------+----+-----+---+------+\n",
      "only showing top 20 rows\n",
      "\n"
     ]
    }
   ],
   "source": [
    "# Transformer le jeu de données\n",
    "# Ajouter de nouvelles colonnes pour l'année, le mois et le jour\n",
    "climat_transformed = (\n",
    "    climat_col_cleaned\n",
    "    .withColumn('year', F.year(F.col('DATE')))  # Extraire l'année\n",
    "    .withColumn('month', F.month(F.col('DATE')))  # Extraire le mois\n",
    "    .withColumn('day', F.dayofmonth(F.col('DATE')))  # Extraire le jour\n",
    ")\n",
    "\n",
    "# Classifier les jours chauds (les données sont en degrées F°)\n",
    "climat_transformed = climat_transformed.withColumn('is_hot', F.col('TEMP') > 68)\n",
    "\n",
    "climat_transformed.show()"
   ]
  },
  {
   "cell_type": "code",
   "execution_count": 14,
   "metadata": {},
   "outputs": [
    {
     "name": "stdout",
     "output_type": "stream",
     "text": [
      "+----------+----------+--------+---------+---------+-------------+----+----+------+-----+-----+----+-----+-----+----+----+-----+-----+------+------+----+-----+---+------+\n",
      "|   STATION|      DATE|LATITUDE|LONGITUDE|ELEVATION|         NAME|TEMP|DEWP|   SLP|  STP|VISIB|WDSP|MXSPD| GUST| MAX| MIN| PRCP| SNDP|FRSHTT|TEMP_C|year|month|day|is_hot|\n",
      "+----------+----------+--------+---------+---------+-------------+----+----+------+-----+-----+----+-----+-----+----+----+-----+-----+------+------+----+-----+---+------+\n",
      "|3497099999|1929-08-01|  52.583|    1.717|      3.0|GORLESTON, UK|57.6|54.8| 991.5|999.9|  4.7|14.0| 18.1|999.9|66.9|55.0| 0.12|999.9| 10000|  14.2|1929|    8|  1| false|\n",
      "|3497099999|1929-08-02|  52.583|    1.717|      3.0|GORLESTON, UK|55.4|47.8|1012.0|999.9|  6.2| 6.0|  8.9|999.9|63.0|48.9|  0.0|999.9|     0|  13.0|1929|    8|  2| false|\n",
      "|3497099999|1929-08-03|  52.583|    1.717|      3.0|GORLESTON, UK|58.8|52.7|1014.0|999.9|  4.7|14.2| 18.1|999.9|63.0|54.0|99.99|999.9| 10000|  14.9|1929|    8|  3| false|\n",
      "|3497099999|1929-08-04|  52.583|    1.717|      3.0|GORLESTON, UK|62.7|57.5|1004.6|999.9|  4.3|18.3| 23.9|999.9|66.9|57.0|99.99|999.9| 10000|  17.1|1929|    8|  4| false|\n",
      "|3497099999|1929-08-05|  52.583|    1.717|      3.0|GORLESTON, UK|58.8|48.8|1008.9|999.9|  4.7| 7.4|  8.9|999.9|68.0|54.0| 0.02|999.9|     0|  14.9|1929|    8|  5| false|\n",
      "+----------+----------+--------+---------+---------+-------------+----+----+------+-----+-----+----+-----+-----+----+----+-----+-----+------+------+----+-----+---+------+\n",
      "only showing top 5 rows\n",
      "\n"
     ]
    }
   ],
   "source": [
    "climat_transformed.show(5)"
   ]
  },
  {
   "cell_type": "code",
   "execution_count": 15,
   "metadata": {},
   "outputs": [
    {
     "name": "stdout",
     "output_type": "stream",
     "text": [
      "Nombre total de jours classés comme 'chauds' : 21\n"
     ]
    }
   ],
   "source": [
    "# Compter le nombre de jours chauds (is_hot = true)\n",
    "hot_days_count = climat_transformed.filter(F.col(\"is_hot\") == True).count()\n",
    "\n",
    "# Afficher le résultat\n",
    "print(f\"Nombre total de jours classés comme 'chauds' : {hot_days_count}\")"
   ]
  },
  {
   "cell_type": "code",
   "execution_count": 16,
   "metadata": {},
   "outputs": [],
   "source": [
    "# Nous avons supprimé les colonnes qui nous semblaient inutiles, géré les valeurs manquantes, \n",
    "#ajouté de nouvelles colonnes, et créé une colonne supplémentaire intitulée is_hot et une autre colonne pour\n",
    "# transformer les degrées Fahrenheit en degrées Celsius"
   ]
  },
  {
   "cell_type": "code",
   "execution_count": 17,
   "metadata": {},
   "outputs": [],
   "source": [
    "# Calculer les moyennes annuelles et autres statistiques\n",
    "# avg_temp_by_year = df_transformed.groupBy('year').avg('temperature')\n",
    "#avg_temp_by_year.show()"
   ]
  },
  {
   "cell_type": "code",
   "execution_count": 18,
   "metadata": {},
   "outputs": [
    {
     "name": "stdout",
     "output_type": "stream",
     "text": [
      "+---------------------------+------------------------+\n",
      "|Mean_Temperature_Fahrenheit|Mean_Temperature_Celcius|\n",
      "+---------------------------+------------------------+\n",
      "|                       NULL|                    NULL|\n",
      "+---------------------------+------------------------+\n",
      "\n"
     ]
    }
   ],
   "source": [
    "# Définir le chemin vers les fichiers CSV contenant les données des cyclistes\n",
    "climat_2020 = climat_transformed.filter(F.col('year') == 2020)\n",
    "\n",
    "avg_temp_2020 = climat_2020.agg({\"TEMP\": \"mean\", \"TEMP_C\": \"mean\"}).withColumnRenamed(\"avg(TEMP)\", \"Mean_Temperature_Fahrenheit\") \\\n",
    "                                                                   .withColumnRenamed(\"avg(TEMP_C)\", \"Mean_Temperature_Celcius\")\n",
    "\n",
    "# Afficher les résultats\n",
    "avg_temp_2020.show()\n"
   ]
  },
  {
   "cell_type": "code",
   "execution_count": 19,
   "metadata": {},
   "outputs": [
    {
     "name": "stdout",
     "output_type": "stream",
     "text": [
      "+-----------+--------------------+--------+---------+---------------------------+------------------------+\n",
      "|    STATION|                NAME|LATITUDE|LONGITUDE|Mean_Temperature_Fahrenheit|Mean_Temperature_Celcius|\n",
      "+-----------+--------------------+--------+---------+---------------------------+------------------------+\n",
      "|99006199999|BUOY 52079 ARGOS ...|     0.1|    147.0|          64.58409090909089|       18.09318181818182|\n",
      "| 3777099999|     PURLEY OAKS, UK|   51.35|   -0.117|         53.135999999999996|      11.741333333333333|\n",
      "| 3795099999|          LYMPNE, UK|  51.083|    1.017|         52.163758389261744|      11.202013422818794|\n",
      "| 3497099999|       GORLESTON, UK|  52.583|    1.717|          52.12418300653595|      11.179738562091504|\n",
      "| 3856099999|PORTLAND BILL LH, UK|  50.517|    -2.45|         51.393478260869585|      10.770652173913044|\n",
      "+-----------+--------------------+--------+---------+---------------------------+------------------------+\n",
      "\n"
     ]
    }
   ],
   "source": [
    "\n",
    "# Calculer la température moyenne par station et obtenir les autres informations\n",
    "avg_temp_by_station = climat_transformed.groupBy('STATION', 'NAME', 'LATITUDE', 'LONGITUDE').agg({\"TEMP\": \"mean\", \"TEMP_C\": \"mean\"}).withColumnRenamed(\"avg(TEMP)\", \"Mean_Temperature_Fahrenheit\") \\\n",
    "                                                                                                                                    .withColumnRenamed(\"avg(TEMP_C)\", \"Mean_Temperature_Celcius\")\n",
    "# Trier par température moyenne (ordre décroissant) et prendre les 5 premières stations\n",
    "top_5_stations = avg_temp_by_station.orderBy(col('Mean_Temperature_Fahrenheit').desc()).limit(5)\n",
    " \n",
    "# Afficher les résultats\n",
    "top_5_stations.show()"
   ]
  },
  {
   "cell_type": "code",
   "execution_count": 20,
   "metadata": {},
   "outputs": [
    {
     "name": "stdout",
     "output_type": "stream",
     "text": [
      "+----+-------------------+\n",
      "|year|total_precipitation|\n",
      "+----+-------------------+\n",
      "|1929|  94335.60999999993|\n",
      "+----+-------------------+\n",
      "\n"
     ]
    }
   ],
   "source": [
    " \n",
    "# Calculer la somme des précipitations mondiales par année\n",
    "# Calculer la température moyenne par station et obtenir les autres informations\n",
    "total_precipitation = climat_transformed.groupBy('year').agg({\"PRCP\": \"sum\"}).withColumnRenamed(\"sum(PRCP)\", \"total_precipitation\")\n",
    "                                                                                                                                \n",
    "# Trier par température moyenne (ordre décroissant) et prendre les 5 premières stations\n",
    "precip_by_year = total_precipitation.orderBy(col('year').desc()).limit(50)\n",
    "\n",
    "# Afficher l'évolution des précipitations par année\n",
    "precip_by_year.orderBy('year').show()"
   ]
  },
  {
   "cell_type": "code",
   "execution_count": 21,
   "metadata": {},
   "outputs": [],
   "source": [
    "# Enregistrer comme vue SQL temporaire et exécuter des requêtes\n",
    "climat_transformed.createOrReplaceTempView('climate')\n",
    "# spark.sql('SELECT ...')"
   ]
  },
  {
   "cell_type": "code",
   "execution_count": 22,
   "metadata": {},
   "outputs": [
    {
     "name": "stdout",
     "output_type": "stream",
     "text": [
      "+----+---------------------------+------------------------+\n",
      "|year|Mean_Temperature_Fahrenheit|Mean_Temperature_Celcius|\n",
      "+----+---------------------------+------------------------+\n",
      "|1929|          49.23810667948102|       9.576357520422874|\n",
      "+----+---------------------------+------------------------+\n",
      "\n"
     ]
    }
   ],
   "source": [
    "# Calculer la température moyenne par année\n",
    "coldest_month = spark.sql('''\n",
    "    SELECT year, AVG(TEMP) AS Mean_Temperature_Fahrenheit, AVG(TEMP_C) AS Mean_Temperature_Celcius\n",
    "    FROM climate\n",
    "    GROUP BY year\n",
    "    ORDER BY Mean_Temperature_Fahrenheit ASC\n",
    "    LIMIT 1\n",
    "''')\n",
    "\n",
    "# Afficher le mois le plus froid et sa température moyenne\n",
    "coldest_month.show()"
   ]
  },
  {
   "cell_type": "code",
   "execution_count": 23,
   "metadata": {},
   "outputs": [
    {
     "name": "stdout",
     "output_type": "stream",
     "text": [
      "+----------+-------------+---------------------+\n",
      "|STATION   |NAME         |Nombre_Enregistrement|\n",
      "+----------+-------------+---------------------+\n",
      "|3497099999|GORLESTON, UK|153                  |\n",
      "+----------+-------------+---------------------+\n",
      "\n"
     ]
    }
   ],
   "source": [
    "# Trouver la station avec le plus grand nombre d'enregistrements\n",
    "most_records_station = spark.sql('''\n",
    "    SELECT STATION, NAME, COUNT(*) AS Nombre_Enregistrement\n",
    "    FROM climate\n",
    "    GROUP BY STATION, NAME\n",
    "    ORDER BY Nombre_Enregistrement DESC\n",
    "    LIMIT 1\n",
    "''')\n",
    "\n",
    "# Afficher le résultat\n",
    "most_records_station.show(truncate=False)"
   ]
  },
  {
   "cell_type": "code",
   "execution_count": 24,
   "metadata": {},
   "outputs": [],
   "source": [
    "#Pour trouver le mois le plus froid et la température moyenne :\n",
    "    #SELECT year, AVG(TEMP) AS Mean_Temperature_Fahrenheit, AVG(TEMP_C) AS Mean_Temperature_Celcius\n",
    "    #FROM climate\n",
    "    #GROUP BY year\n",
    "    #ORDER BY Mean_Temperature_Fahrenheit ASC\n",
    "    #LIMIT 1\n",
    "#Pour trouver la station avec le plus grand nombre d'enregistrements :\n",
    "    #SELECT STATION, NAME, COUNT(*) AS Nombre_Enregistrement\n",
    "    #FROM climate\n",
    "    #GROUP BY STATION, NAME\n",
    "    #ORDER BY Nombre_Enregistrement DESC\n",
    "    #LIMIT 1"
   ]
  },
  {
   "cell_type": "code",
   "execution_count": 25,
   "metadata": {},
   "outputs": [],
   "source": [
    "# Exporter les données vers Pandas et créer des visualisations\n",
    "# import matplotlib.pyplot as plt\n",
    "# df_pandas = avg_temp_by_year.toPandas()\n",
    "# plt.plot(df_pandas['year'], df_pandas['avg_temperature'])"
   ]
  },
  {
   "cell_type": "code",
   "execution_count": 26,
   "metadata": {},
   "outputs": [
    {
     "name": "stdout",
     "output_type": "stream",
     "text": [
      "      STATION        DATE  LATITUDE  LONGITUDE  ELEVATION           NAME  \\\n",
      "0  3497099999  1929-08-01    52.583      1.717        3.0  GORLESTON, UK   \n",
      "1  3497099999  1929-08-02    52.583      1.717        3.0  GORLESTON, UK   \n",
      "2  3497099999  1929-08-03    52.583      1.717        3.0  GORLESTON, UK   \n",
      "3  3497099999  1929-08-04    52.583      1.717        3.0  GORLESTON, UK   \n",
      "4  3497099999  1929-08-05    52.583      1.717        3.0  GORLESTON, UK   \n",
      "\n",
      "   TEMP  DEWP     SLP    STP  ...   MAX   MIN   PRCP   SNDP  FRSHTT  TEMP_C  \\\n",
      "0  57.6  54.8   991.5  999.9  ...  66.9  55.0   0.12  999.9   10000    14.2   \n",
      "1  55.4  47.8  1012.0  999.9  ...  63.0  48.9   0.00  999.9       0    13.0   \n",
      "2  58.8  52.7  1014.0  999.9  ...  63.0  54.0  99.99  999.9   10000    14.9   \n",
      "3  62.7  57.5  1004.6  999.9  ...  66.9  57.0  99.99  999.9   10000    17.1   \n",
      "4  58.8  48.8  1008.9  999.9  ...  68.0  54.0   0.02  999.9       0    14.9   \n",
      "\n",
      "   year  month  day  is_hot  \n",
      "0  1929      8    1   False  \n",
      "1  1929      8    2   False  \n",
      "2  1929      8    3   False  \n",
      "3  1929      8    4   False  \n",
      "4  1929      8    5   False  \n",
      "\n",
      "[5 rows x 24 columns]\n"
     ]
    }
   ],
   "source": [
    "# Convertir le DataFrame PySpark en DataFrame Pandas\n",
    "climat_transformed_pandas = climat_transformed.toPandas()\n",
    "\n",
    "# Afficher les premières lignes du DataFrame Pandas\n",
    "print(climat_transformed_pandas.head())"
   ]
  },
  {
   "cell_type": "code",
   "execution_count": 27,
   "metadata": {},
   "outputs": [],
   "source": [
    "import pandas as pd\n",
    "import matplotlib.pyplot as plt\n",
    "import seaborn as sns"
   ]
  },
  {
   "cell_type": "code",
   "execution_count": 28,
   "metadata": {},
   "outputs": [],
   "source": [
    "# MOIS"
   ]
  },
  {
   "cell_type": "code",
   "execution_count": 29,
   "metadata": {},
   "outputs": [
    {
     "data": {
      "image/png": "[encoded data removed]",
      "text/plain": [
       "<Figure size 800x200 with 2 Axes>"
      ]
     },
     "metadata": {},
     "output_type": "display_data"
    }
   ],
   "source": [
    "\n",
    "# Assurez-vous que les mois sont présents\n",
    "# Ajouter une colonne \"month\" si elle n'existe pas déjà\n",
    "climat_transformed_pandas['month'] = pd.to_datetime(climat_transformed_pandas['DATE']).dt.month\n",
    "\n",
    "# Calcul de la température moyenne par mois\n",
    "monthly_avg = climat_transformed_pandas.groupby('month')['TEMP_C'].mean().reset_index()\n",
    "\n",
    "# Ajouter les mois manquants (1 à 12) si nécessaire\n",
    "all_months = pd.DataFrame({'month': range(1, 13)})\n",
    "monthly_avg = pd.merge(all_months, monthly_avg, on='month', how='left')\n",
    "monthly_avg['TEMP_C'] = monthly_avg['TEMP_C'].fillna(0)  # Remplace les valeurs manquantes\n",
    "\n",
    "# Préparer les données pour la heatmap\n",
    "heatmap_data = monthly_avg.set_index('month').T  # Transposer pour avoir les mois comme colonnes\n",
    "\n",
    "# Dessin de la heatmap\n",
    "plt.figure(figsize=(8, 2))\n",
    "sns.heatmap(heatmap_data, cmap=\"coolwarm\", annot=True, cbar_kws={'label': 'Température moyenne (°C)'})\n",
    "plt.title(\"Températures moyennes mondiales par mois\")\n",
    "plt.xlabel(\"Mois\")\n",
    "plt.ylabel(\"\")\n",
    "plt.xticks(\n",
    "    range(12), \n",
    "    ['Jan', 'Feb', 'Mar', 'Apr', 'May', 'Jun', 'Jul', 'Aug', 'Sep', 'Oct', 'Nov', 'Dec'], \n",
    "    rotation=45\n",
    ")\n",
    "plt.show()"
   ]
  },
  {
   "cell_type": "code",
   "execution_count": 30,
   "metadata": {},
   "outputs": [
    {
     "data": {
      "image/png": "[encoded data removed]",
      "text/plain": [
       "<Figure size 1000x600 with 1 Axes>"
      ]
     },
     "metadata": {},
     "output_type": "display_data"
    }
   ],
   "source": [
    "\n",
    "# Étape 1 : Filtrer les données\n",
    "# Exclure les jours sans précipitation (0 mm) et les valeurs aberrantes comme 99.99 mm\n",
    "precip_data_filtered = climat_transformed_pandas[(climat_transformed_pandas['PRCP'] > 0) & \n",
    "                                                 (climat_transformed_pandas['PRCP'] < 100)]['PRCP']\n",
    "\n",
    "# Vérification : S'assurer que les données filtrées ne sont pas vides\n",
    "if precip_data_filtered.empty:\n",
    "    print(\"Aucune donnée valide après le filtrage.\")\n",
    "else:\n",
    "    # Étape 2 : Créer un histogramme avec KDE pour mieux comprendre la distribution\n",
    "    plt.figure(figsize=(10, 6))  # Ajuster la taille du graphique\n",
    "    sns.histplot(precip_data_filtered, bins=30, kde=True, color=\"blue\", stat=\"density\")  # Stat=“density” pour une échelle normalisée\n",
    "\n",
    "    # Étape 3 : Ajouter des titres et des labels pour clarifier l'interprétation\n",
    "    plt.title(\"Distribution des Précipitations (mm)\", fontsize=16)  # Titre du graphique\n",
    "    plt.xlabel(\"Précipitations (mm)\", fontsize=14)  # Label de l'axe X\n",
    "    plt.ylabel(\"Densité\", fontsize=14)  # Label de l'axe Y (densité, car on utilise stat=\"density\")\n",
    "\n",
    "    # Étape 4 : Ajouter une grille pour une meilleure lisibilité\n",
    "    plt.grid(True)\n",
    "\n",
    "    # Afficher le graphique\n",
    "    plt.show()\n"
   ]
  }
 ],
 "metadata": {
  "kernelspec": {
   "display_name": "Python 3 (ipykernel)",
   "language": "python",
   "name": "python3"
  },
  "language_info": {
   "codemirror_mode": {
    "name": "ipython",
    "version": 3
   },
   "file_extension": ".py",
   "mimetype": "text/x-python",
   "name": "python",
   "nbconvert_exporter": "python",
   "pygments_lexer": "ipython3",
   "version": "3.11.6"
  }
 },
 "nbformat": 4,
 "nbformat_minor": 4
}
