{
 "cells": [
  {
   "cell_type": "markdown",
   "id": "e9182a66",
   "metadata": {},
   "source": [
    "# Projet Apache Spark : Analyse des données climatiques mondiales"
   ]
  },
  {
   "cell_type": "markdown",
   "id": "b597f527",
   "metadata": {},
   "source": [
    "## Objectif :\n",
    "Analyser les tendances climatiques mondiales à l'aide de Spark, y compris le nettoyage des données, l'EDA et l'extraction d'informations."
   ]
  },
  {
   "cell_type": "markdown",
   "id": "76142078-4b9b-417e-9a0b-36ec8cc28255",
   "metadata": {},
   "source": [
    "## Groupe :\n",
    "#### Bérenger AKODO \n",
    "#### Etienne VACHER\n",
    "#### Mamoudou NDONGO"
   ]
  },
  {
   "cell_type": "markdown",
   "id": "4d3a44b6",
   "metadata": {},
   "source": [
    "### Jeu de données :\n",
    "[Global Surface Summary of the Day (GSOD) provenant de NOAA](https://www.ncei.noaa.gov/access/metadata/landing-page/bin/iso?id=gov.noaa.ncdc:C00516)\n"
   ]
  },
  {
   "cell_type": "code",
   "execution_count": 1,
   "id": "c2f1caaf-ff34-4fd4-9bbb-baf80c6c8cc8",
   "metadata": {},
   "outputs": [],
   "source": [
    "from pyspark.sql import SparkSession\n",
    "from pyspark.sql.types import *\n",
    "from pyspark.sql import functions as F\n",
    "from pyspark.sql.types import *\n",
    "from pyspark.sql.functions import *\n",
    "from pyspark.sql.window import Window\n",
    "from pyspark.sql.functions import col"
   ]
  },
  {
   "cell_type": "code",
   "execution_count": 2,
   "id": "0dbb66f3-78b4-41d8-bdc5-64d684ae4709",
   "metadata": {
    "scrolled": true
   },
   "outputs": [
    {
     "name": "stdout",
     "output_type": "stream",
     "text": [
      "[('STATION', 'bigint'), ('DATE', 'date'), ('LATITUDE', 'double'), ('LONGITUDE', 'double'), ('ELEVATION', 'double'), ('NAME', 'string'), ('TEMP', 'double'), ('TEMP_ATTRIBUTES', 'double'), ('DEWP', 'double'), ('DEWP_ATTRIBUTES', 'double'), ('SLP', 'double'), ('SLP_ATTRIBUTES', 'double'), ('STP', 'double'), ('STP_ATTRIBUTES', 'double'), ('VISIB', 'double'), ('VISIB_ATTRIBUTES', 'double'), ('WDSP', 'double'), ('WDSP_ATTRIBUTES', 'double'), ('MXSPD', 'double'), ('GUST', 'double'), ('MAX', 'double'), ('MAX_ATTRIBUTES', 'string'), ('MIN', 'double'), ('MIN_ATTRIBUTES', 'string'), ('PRCP', 'double'), ('PRCP_ATTRIBUTES', 'string'), ('SNDP', 'double'), ('FRSHTT', 'int')]\n"
     ]
    }
   ],
   "source": [
    "from pyspark.sql import SparkSession\n",
    "\n",
    "# Créer ou obtenir une session Spark active\n",
    "spark = SparkSession.builder \\\n",
    "    .appName(\"Meteo Analysis\") \\\n",
    "    .config(\"spark.network.timeout\", \"14400s\") \\\n",
    "    .config(\"spark.executor.memory\", \"10g\") \\\n",
    "    .config(\"spark.driver.memory\", \"10g\") \\\n",
    "    .getOrCreate()\n",
    "\n",
    "# Définir le chemin vers les fichiers CSV contenant les données des cyclistes\n",
    "path = \"./datas/all_data/*/*.csv\"\n",
    "\n",
    "# Charger les données CSV dans un DataFrame Spark\n",
    "climat = spark.read.format(\"csv\") \\\n",
    "    .option(\"header\", \"true\") \\\n",
    "    .option(\"inferSchema\", \"true\") \\\n",
    "    .load(path)\n",
    "\n",
    "# Afficher les types de données (schéma) de chaque colonne dans le DataFrame\n",
    "print(climat.dtypes)"
   ]
  },
  {
   "cell_type": "markdown",
   "id": "56df410b",
   "metadata": {},
   "source": [
    "---\n",
    "## Exploration du jeu de données\n"
   ]
  },
  {
   "cell_type": "code",
   "execution_count": 3,
   "id": "ae49c784",
   "metadata": {},
   "outputs": [],
   "source": [
    "# Charger les données\n",
    "# Charger le jeu de données GSOD dans Spark en tant que DataFrame (Remplacer par le chemin réel)\n",
    "# df = spark.read.csv('chemin/vers/dataset.csv', header=True, inferSchema=True)"
   ]
  },
  {
   "cell_type": "code",
   "execution_count": 4,
   "id": "58f65097",
   "metadata": {},
   "outputs": [
    {
     "name": "stdout",
     "output_type": "stream",
     "text": [
      "root\n",
      " |-- STATION: long (nullable = true)\n",
      " |-- DATE: date (nullable = true)\n",
      " |-- LATITUDE: double (nullable = true)\n",
      " |-- LONGITUDE: double (nullable = true)\n",
      " |-- ELEVATION: double (nullable = true)\n",
      " |-- NAME: string (nullable = true)\n",
      " |-- TEMP: double (nullable = true)\n",
      " |-- TEMP_ATTRIBUTES: double (nullable = true)\n",
      " |-- DEWP: double (nullable = true)\n",
      " |-- DEWP_ATTRIBUTES: double (nullable = true)\n",
      " |-- SLP: double (nullable = true)\n",
      " |-- SLP_ATTRIBUTES: double (nullable = true)\n",
      " |-- STP: double (nullable = true)\n",
      " |-- STP_ATTRIBUTES: double (nullable = true)\n",
      " |-- VISIB: double (nullable = true)\n",
      " |-- VISIB_ATTRIBUTES: double (nullable = true)\n",
      " |-- WDSP: double (nullable = true)\n",
      " |-- WDSP_ATTRIBUTES: double (nullable = true)\n",
      " |-- MXSPD: double (nullable = true)\n",
      " |-- GUST: double (nullable = true)\n",
      " |-- MAX: double (nullable = true)\n",
      " |-- MAX_ATTRIBUTES: string (nullable = true)\n",
      " |-- MIN: double (nullable = true)\n",
      " |-- MIN_ATTRIBUTES: string (nullable = true)\n",
      " |-- PRCP: double (nullable = true)\n",
      " |-- PRCP_ATTRIBUTES: string (nullable = true)\n",
      " |-- SNDP: double (nullable = true)\n",
      " |-- FRSHTT: integer (nullable = true)\n",
      "\n"
     ]
    },
    {
     "data": {
      "text/plain": [
       "(48458, 28)"
      ]
     },
     "execution_count": 4,
     "metadata": {},
     "output_type": "execute_result"
    }
   ],
   "source": [
    "# Inspection du schéma et calcul des statistiques\n",
    "climat.printSchema()\n",
    "climat.count(), len(climat.columns)"
   ]
  },
  {
   "cell_type": "markdown",
   "id": "757eec73",
   "metadata": {},
   "source": [
    "**Questions :**\n",
    "1. Combien d'enregistrements contient le jeu de données ?"
   ]
  },
  {
   "cell_type": "code",
   "execution_count": 5,
   "id": "ccada236-c5fe-479c-8193-9147c943d0ef",
   "metadata": {},
   "outputs": [
    {
     "data": {
      "text/plain": [
       "48458"
      ]
     },
     "execution_count": 5,
     "metadata": {},
     "output_type": "execute_result"
    }
   ],
   "source": [
    "climat.count()"
   ]
  },
  {
   "cell_type": "markdown",
   "id": "e81cb05a-f1be-4d9d-a59b-12cbf6c05a3c",
   "metadata": {},
   "source": [
    "\n",
    "2. Quels sont les noms et types de colonnes ?\n"
   ]
  },
  {
   "cell_type": "code",
   "execution_count": 6,
   "id": "fca2755a-854d-4cfe-aeca-422fa22c7242",
   "metadata": {},
   "outputs": [
    {
     "name": "stdout",
     "output_type": "stream",
     "text": [
      "root\n",
      " |-- STATION: long (nullable = true)\n",
      " |-- DATE: date (nullable = true)\n",
      " |-- LATITUDE: double (nullable = true)\n",
      " |-- LONGITUDE: double (nullable = true)\n",
      " |-- ELEVATION: double (nullable = true)\n",
      " |-- NAME: string (nullable = true)\n",
      " |-- TEMP: double (nullable = true)\n",
      " |-- TEMP_ATTRIBUTES: double (nullable = true)\n",
      " |-- DEWP: double (nullable = true)\n",
      " |-- DEWP_ATTRIBUTES: double (nullable = true)\n",
      " |-- SLP: double (nullable = true)\n",
      " |-- SLP_ATTRIBUTES: double (nullable = true)\n",
      " |-- STP: double (nullable = true)\n",
      " |-- STP_ATTRIBUTES: double (nullable = true)\n",
      " |-- VISIB: double (nullable = true)\n",
      " |-- VISIB_ATTRIBUTES: double (nullable = true)\n",
      " |-- WDSP: double (nullable = true)\n",
      " |-- WDSP_ATTRIBUTES: double (nullable = true)\n",
      " |-- MXSPD: double (nullable = true)\n",
      " |-- GUST: double (nullable = true)\n",
      " |-- MAX: double (nullable = true)\n",
      " |-- MAX_ATTRIBUTES: string (nullable = true)\n",
      " |-- MIN: double (nullable = true)\n",
      " |-- MIN_ATTRIBUTES: string (nullable = true)\n",
      " |-- PRCP: double (nullable = true)\n",
      " |-- PRCP_ATTRIBUTES: string (nullable = true)\n",
      " |-- SNDP: double (nullable = true)\n",
      " |-- FRSHTT: integer (nullable = true)\n",
      "\n"
     ]
    }
   ],
   "source": [
    "climat.printSchema()"
   ]
  },
  {
   "cell_type": "markdown",
   "id": "a070ec62-ebc2-4ccd-be79-a72b6eec1908",
   "metadata": {},
   "source": [
    "\n",
    "3. Combien de stations météorologiques uniques sont présentes ?"
   ]
  },
  {
   "cell_type": "code",
   "execution_count": 7,
   "id": "4c9260e7-587e-40d4-a222-829be79f35d6",
   "metadata": {},
   "outputs": [
    {
     "data": {
      "text/plain": [
       "95"
      ]
     },
     "execution_count": 7,
     "metadata": {},
     "output_type": "execute_result"
    }
   ],
   "source": [
    "climat.select(\"STATION\").distinct().count()"
   ]
  },
  {
   "cell_type": "markdown",
   "id": "99cf9add",
   "metadata": {},
   "source": [
    "---\n",
    "## Nettoyage des données\n"
   ]
  },
  {
   "cell_type": "code",
   "execution_count": 8,
   "id": "1c12f080",
   "metadata": {},
   "outputs": [],
   "source": [
    "# Identifier les colonnes avec des valeurs manquantes et les traiter\n",
    "missing_values = climat.select([F.count(F.when(F.col(c).isNull(), c)) for c in climat.columns])"
   ]
  },
  {
   "cell_type": "code",
   "execution_count": 9,
   "id": "804cbcd1",
   "metadata": {
    "scrolled": true
   },
   "outputs": [],
   "source": [
    "# Supprimer les lignes avec des valeurs critiques manquantes\n",
    "climat_annee_delete = climat.dropna(subset=['TEMP', 'DATE'])"
   ]
  },
  {
   "cell_type": "markdown",
   "id": "ad4c90c8",
   "metadata": {},
   "source": [
    "**Questions :**\n",
    "1. Quelles colonnes ont le plus de valeurs manquantes ?\n"
   ]
  },
  {
   "cell_type": "code",
   "execution_count": 10,
   "id": "329c2e8f-dc4b-4c5b-9f7b-2bd5cb4c4b52",
   "metadata": {
    "scrolled": true
   },
   "outputs": [
    {
     "name": "stdout",
     "output_type": "stream",
     "text": [
      "{'STATION': 0, 'DATE': 0, 'LATITUDE': 1264, 'LONGITUDE': 1264, 'ELEVATION': 1264, 'NAME': 1264, 'TEMP': 0, 'TEMP_ATTRIBUTES': 0, 'DEWP': 0, 'DEWP_ATTRIBUTES': 0, 'SLP': 0, 'SLP_ATTRIBUTES': 0, 'STP': 0, 'STP_ATTRIBUTES': 0, 'VISIB': 0, 'VISIB_ATTRIBUTES': 0, 'WDSP': 0, 'WDSP_ATTRIBUTES': 0, 'MXSPD': 0, 'GUST': 0, 'MAX': 0, 'MAX_ATTRIBUTES': 0, 'MIN': 0, 'MIN_ATTRIBUTES': 0, 'PRCP': 0, 'PRCP_ATTRIBUTES': 0, 'SNDP': 0, 'FRSHTT': 0}\n"
     ]
    }
   ],
   "source": [
    "# Calculer le nombre de valeurs manquantes pour chaque colonne\n",
    "missing_values = climat.select(\n",
    "    [count(when(col(c).isNull(), c)).alias(c) for c in climat.columns]\n",
    ")\n",
    "\n",
    "# Afficher chaque ligne (ici une seule ligne avec les résultats pour chaque colonne)\n",
    "for row in missing_values.collect():\n",
    "    print(row.asDict())"
   ]
  },
  {
   "cell_type": "markdown",
   "id": "d056c945-8a4d-4d87-b694-06a3e9cf2c6b",
   "metadata": {},
   "source": [
    "\n",
    "2. Après nettoyage, combien d'enregistrements restent ?\n"
   ]
  },
  {
   "cell_type": "code",
   "execution_count": 11,
   "id": "75395215-416c-4a31-a41b-cb0202ecc74e",
   "metadata": {
    "scrolled": true
   },
   "outputs": [
    {
     "name": "stdout",
     "output_type": "stream",
     "text": [
      "Nombre d'enregistrements après nettoyage : 47194\n"
     ]
    }
   ],
   "source": [
    "# Supprimer les lignes avec des valeurs manquantes dans n'importe quelle colonne\n",
    "drop_climat = climat.dropna()\n",
    "\n",
    "# Compter le nombre d'enregistrements restants après nettoyage\n",
    "remaining_records = drop_climat.count()\n",
    "\n",
    "print(f\"Nombre d'enregistrements après nettoyage : {remaining_records}\")"
   ]
  },
  {
   "cell_type": "markdown",
   "id": "2fb73812-157b-4c2a-9893-4aefd63c654e",
   "metadata": {},
   "source": [
    "\n",
    "3. Quelle technique avez-vous utilisée pour traiter les valeurs manquantes dans la colonne des précipitations ?"
   ]
  },
  {
   "cell_type": "code",
   "execution_count": 12,
   "id": "34c12800-6682-4053-8b45-7e4e32066050",
   "metadata": {},
   "outputs": [
    {
     "name": "stdout",
     "output_type": "stream",
     "text": [
      "Nombre d'enregistrements après nettoyage : 48458\n"
     ]
    }
   ],
   "source": [
    "#Pour l'ensemble de notre étude, nous avons choisi d'adopter la méthode d'imputation des \n",
    "#valeurs manquantes en utilisant une valeur fixe, telle que la moyenne, la médiane, ou d'autres \n",
    "#valeurs appropriées.\n",
    "\n",
    "# Récupérer la liste des colonnes numériques\n",
    "numeric_columns = [field.name for field in climat.schema.fields if isinstance(field.dataType, (IntegerType, DoubleType))]\n",
    "\n",
    "# Calculer la moyenne de chaque colonne numérique et remplir les valeurs manquantes\n",
    "mean_values = climat.select([F.mean(c).alias(c) for c in numeric_columns]).collect()[0].asDict()\n",
    "\n",
    "# Remplacer les valeurs manquantes pour chaque colonne par la moyenne\n",
    "climat_cleaned = climat.fillna(mean_values)\n",
    "\n",
    "# Afficher le nombre d'enregistrements après nettoyage\n",
    "remaining_records = climat_cleaned.count()\n",
    "print(f\"Nombre d'enregistrements après nettoyage : {remaining_records}\")"
   ]
  },
  {
   "cell_type": "markdown",
   "id": "6b3c32d6",
   "metadata": {},
   "source": [
    "---\n",
    "## Transformation des données\n"
   ]
  },
  {
   "cell_type": "code",
   "execution_count": 13,
   "id": "d2076a05-04ee-45d8-a018-a6a25dcda137",
   "metadata": {},
   "outputs": [
    {
     "name": "stdout",
     "output_type": "stream",
     "text": [
      "+----+------+\n",
      "|TEMP|TEMP_C|\n",
      "+----+------+\n",
      "|34.7|   1.5|\n",
      "|37.0|   2.8|\n",
      "|36.6|   2.6|\n",
      "|32.5|   0.3|\n",
      "|34.9|   1.6|\n",
      "|31.1|  -0.5|\n",
      "|24.5|  -4.2|\n",
      "|19.2|  -7.1|\n",
      "|22.3|  -5.4|\n",
      "|24.2|  -4.3|\n",
      "|27.4|  -2.6|\n",
      "|30.1|  -1.1|\n",
      "|29.4|  -1.4|\n",
      "|29.4|  -1.4|\n",
      "|31.3|  -0.4|\n",
      "|35.3|   1.8|\n",
      "|32.7|   0.4|\n",
      "|26.0|  -3.3|\n",
      "|21.5|  -5.8|\n",
      "|20.3|  -6.5|\n",
      "+----+------+\n",
      "only showing top 20 rows\n",
      "\n",
      "Colonnes restantes : ['STATION', 'DATE', 'LATITUDE', 'LONGITUDE', 'ELEVATION', 'NAME', 'TEMP', 'DEWP', 'SLP', 'STP', 'VISIB', 'WDSP', 'MXSPD', 'GUST', 'MAX', 'MIN', 'PRCP', 'SNDP', 'FRSHTT', 'TEMP_C']\n"
     ]
    }
   ],
   "source": [
    "def remove_unwanted_columns(climat_cleaned: DataFrame, columns_to_remove: list) -> DataFrame:\n",
    "    \"\"\"\n",
    "    Supprime les colonnes spécifiées d'un DataFrame PySpark.\n",
    "    \n",
    "    :param df: DataFrame d'entrée\n",
    "    :param columns_to_remove: Liste des colonnes à supprimer\n",
    "    :return: DataFrame nettoyé sans les colonnes spécifiées\n",
    "    \"\"\"\n",
    "    return climat_cleaned.drop(*columns_to_remove)\n",
    "\n",
    "# Liste des colonnes à supprimer\n",
    "columns_to_remove = [\n",
    "    \"TEMP_ATTRIBUTES\",\n",
    "    \"DEWP_ATTRIBUTES\",\n",
    "    \"SLP_ATTRIBUTES\",\n",
    "    \"STP_ATTRIBUTES\",\n",
    "    \"VISIB_ATTRIBUTES\",\n",
    "    \"WDSP_ATTRIBUTES\",\n",
    "    \"MAX_ATTRIBUTES\",\n",
    "    \"MIN_ATTRIBUTES\",\n",
    "    \"PRCP_ATTRIBUTES\"\n",
    "]\n",
    "\n",
    "# Suppression des colonnes dans le DataFrame climat\n",
    "climat_col_cleaned = remove_unwanted_columns(climat_cleaned, columns_to_remove)\n",
    "#Rajout de la colonne Celcius\n",
    "climat_col_cleaned = climat_col_cleaned.withColumn(\"TEMP_C\", bround((col(\"TEMP\") - 32) / 1.8, 1))\n",
    " \n",
    "# Afficher le DataFrame avec les colonnes 'TEMP' et 'TEMP_C' arrondies\n",
    "climat_col_cleaned.select(\"TEMP\", \"TEMP_C\").show()\n",
    "# Afficher les colonnes restantes pour vérifier\n",
    "print(\"Colonnes restantes :\", climat_col_cleaned.columns)"
   ]
  },
  {
   "cell_type": "code",
   "execution_count": 14,
   "id": "7476c0ba",
   "metadata": {},
   "outputs": [
    {
     "name": "stdout",
     "output_type": "stream",
     "text": [
      "+-----------+----------+--------+---------+---------+--------------------+----+------+------+-----+-----+----+-----+-----+----+----+-----+-----+------+------+----+-----+---+------+\n",
      "|    STATION|      DATE|LATITUDE|LONGITUDE|ELEVATION|                NAME|TEMP|  DEWP|   SLP|  STP|VISIB|WDSP|MXSPD| GUST| MAX| MIN| PRCP| SNDP|FRSHTT|TEMP_C|year|month|day|is_hot|\n",
      "+-----------+----------+--------+---------+---------+--------------------+----+------+------+-----+-----+----+-----+-----+----+----+-----+-----+------+------+----+-----+---+------+\n",
      "|72681024131|1931-01-01| 43.5666|-116.2405|    857.7|BOISE AIR TERMINA...|34.7|9999.9|9999.9|999.9| 60.4| 6.6| 13.0|999.9|46.4|17.4|99.99|999.9|101000|   1.5|1931|    1|  1| false|\n",
      "|72681024131|1931-01-02| 43.5666|-116.2405|    857.7|BOISE AIR TERMINA...|37.0|  27.4|9999.9|999.9| 27.3| 5.2| 14.0|999.9|43.3|29.3|99.99|999.9|111000|   2.8|1931|    1|  2| false|\n",
      "|72681024131|1931-01-03| 43.5666|-116.2405|    857.7|BOISE AIR TERMINA...|36.6|  32.9|9999.9|999.9| 51.7| 3.0|  4.1|999.9|40.3|34.3|99.99|999.9|111000|   2.6|1931|    1|  3| false|\n",
      "|72681024131|1931-01-04| 43.5666|-116.2405|    857.7|BOISE AIR TERMINA...|32.5|9999.9|9999.9|999.9| 87.8| 3.8|  9.9|999.9|42.4|25.3|  0.0|999.9|     0|   0.3|1931|    1|  4| false|\n",
      "|72681024131|1931-01-05| 43.5666|-116.2405|    857.7|BOISE AIR TERMINA...|34.9|  23.4|9999.9|999.9| 95.5| 4.8|  9.9|999.9|39.4|32.4|99.99|999.9|  1000|   1.6|1931|    1|  5| false|\n",
      "|72681024131|1931-01-06| 43.5666|-116.2405|    857.7|BOISE AIR TERMINA...|31.1|  26.2|9999.9|999.9|  8.4| 2.9|  5.1|999.9|37.4|27.3|99.99|999.9|101000|  -0.5|1931|    1|  6| false|\n",
      "|72681024131|1931-01-07| 43.5666|-116.2405|    857.7|BOISE AIR TERMINA...|24.5|  22.1|9999.9|999.9| 21.6| 1.9|  4.1|999.9|32.4|20.3|99.99|999.9|101000|  -4.2|1931|    1|  7| false|\n",
      "|72681024131|1931-01-08| 43.5666|-116.2405|    857.7|BOISE AIR TERMINA...|19.2|  18.4|9999.9|999.9|  3.9| 1.8|  2.9|999.9|28.4|13.5|99.99|999.9|101000|  -7.1|1931|    1|  8| false|\n",
      "|72681024131|1931-01-09| 43.5666|-116.2405|    857.7|BOISE AIR TERMINA...|22.3|  19.0|9999.9|999.9| 27.5| 2.7|  6.0|999.9|25.3|19.4|  0.0|999.9|100000|  -5.4|1931|    1|  9| false|\n",
      "|72681024131|1931-01-10| 43.5666|-116.2405|    857.7|BOISE AIR TERMINA...|24.2|  18.8|9999.9|999.9| 50.8| 2.3|  6.0|999.9|30.4|21.4|  0.0|999.9|100000|  -4.3|1931|    1| 10| false|\n",
      "|72681024131|1931-01-11| 43.5666|-116.2405|    857.7|BOISE AIR TERMINA...|27.4|  22.5|9999.9|999.9| 17.1| 2.3|  4.1|999.9|29.3|25.3|99.99|999.9|101000|  -2.6|1931|    1| 11| false|\n",
      "|72681024131|1931-01-12| 43.5666|-116.2405|    857.7|BOISE AIR TERMINA...|30.1|  27.8|9999.9|999.9| 12.5| 1.7|  2.9|999.9|36.3|27.3|99.99|999.9|101000|  -1.1|1931|    1| 12| false|\n",
      "|72681024131|1931-01-13| 43.5666|-116.2405|    857.7|BOISE AIR TERMINA...|29.4|  25.2|9999.9|999.9| 24.4| 2.5|  8.0|999.9|36.3|23.4|99.99|999.9|101000|  -1.4|1931|    1| 13| false|\n",
      "|72681024131|1931-01-14| 43.5666|-116.2405|    857.7|BOISE AIR TERMINA...|29.4|  23.8|9999.9|999.9| 18.4| 2.0|  5.1|999.9|35.4|22.5|  0.0|999.9|100000|  -1.4|1931|    1| 14| false|\n",
      "|72681024131|1931-01-15| 43.5666|-116.2405|    857.7|BOISE AIR TERMINA...|31.3|  23.8|9999.9|999.9| 24.3| 2.3|  4.1|999.9|39.4|28.4|  0.0|999.9|100000|  -0.4|1931|    1| 15| false|\n",
      "|72681024131|1931-01-16| 43.5666|-116.2405|    857.7|BOISE AIR TERMINA...|35.3|  29.8|9999.9|999.9| 39.2| 4.5| 13.0|999.9|42.4|30.4|99.99|999.9|111000|   1.8|1931|    1| 16| false|\n",
      "|72681024131|1931-01-17| 43.5666|-116.2405|    857.7|BOISE AIR TERMINA...|32.7|  30.7|9999.9|999.9|  3.2| 2.1|  7.0|999.9|38.3|30.4|99.99|999.9|101000|   0.4|1931|    1| 17| false|\n",
      "|72681024131|1931-01-18| 43.5666|-116.2405|    857.7|BOISE AIR TERMINA...|26.0|9999.9|9999.9|999.9| 27.6| 2.0|  5.1|999.9|35.4|20.3|  0.0|999.9|100000|  -3.3|1931|    1| 18| false|\n",
      "|72681024131|1931-01-19| 43.5666|-116.2405|    857.7|BOISE AIR TERMINA...|21.5|  20.2|9999.9|999.9|  9.5| 2.0|  5.1|999.9|26.4|15.4|99.99|999.9|101000|  -5.8|1931|    1| 19| false|\n",
      "|72681024131|1931-01-20| 43.5666|-116.2405|    857.7|BOISE AIR TERMINA...|20.3|  16.4|9999.9|999.9| 50.8| 1.7|  4.1|999.9|28.4|15.4|  0.0|999.9|100000|  -6.5|1931|    1| 20| false|\n",
      "+-----------+----------+--------+---------+---------+--------------------+----+------+------+-----+-----+----+-----+-----+----+----+-----+-----+------+------+----+-----+---+------+\n",
      "only showing top 20 rows\n",
      "\n"
     ]
    }
   ],
   "source": [
    "# Transformer le jeu de données\n",
    "# Ajouter de nouvelles colonnes pour l'année, le mois et le jour\n",
    "climat_transformed = (\n",
    "    climat_col_cleaned\n",
    "    .withColumn('year', F.year(F.col('DATE')))  # Extraire l'année\n",
    "    .withColumn('month', F.month(F.col('DATE')))  # Extraire le mois\n",
    "    .withColumn('day', F.dayofmonth(F.col('DATE')))  # Extraire le jour\n",
    ")\n",
    "\n",
    "# Classifier les jours chauds (les données sont en degrées F°)\n",
    "climat_transformed = climat_transformed.withColumn('is_hot', F.col('TEMP') > 68)\n",
    "\n",
    "climat_transformed.show()"
   ]
  },
  {
   "cell_type": "markdown",
   "id": "17cfaab9",
   "metadata": {},
   "source": [
    "**Questions :**\n",
    "1. Quels sont les 5 premiers enregistrements après le parsing de la colonne `date` ?\n"
   ]
  },
  {
   "cell_type": "code",
   "execution_count": 15,
   "id": "7b560917-8db0-454d-91fe-9e9c7e192944",
   "metadata": {},
   "outputs": [
    {
     "name": "stdout",
     "output_type": "stream",
     "text": [
      "+-----------+----------+--------+---------+---------+--------------------+----+------+------+-----+-----+----+-----+-----+----+----+-----+-----+------+------+----+-----+---+------+\n",
      "|    STATION|      DATE|LATITUDE|LONGITUDE|ELEVATION|                NAME|TEMP|  DEWP|   SLP|  STP|VISIB|WDSP|MXSPD| GUST| MAX| MIN| PRCP| SNDP|FRSHTT|TEMP_C|year|month|day|is_hot|\n",
      "+-----------+----------+--------+---------+---------+--------------------+----+------+------+-----+-----+----+-----+-----+----+----+-----+-----+------+------+----+-----+---+------+\n",
      "|72681024131|1931-01-01| 43.5666|-116.2405|    857.7|BOISE AIR TERMINA...|34.7|9999.9|9999.9|999.9| 60.4| 6.6| 13.0|999.9|46.4|17.4|99.99|999.9|101000|   1.5|1931|    1|  1| false|\n",
      "|72681024131|1931-01-02| 43.5666|-116.2405|    857.7|BOISE AIR TERMINA...|37.0|  27.4|9999.9|999.9| 27.3| 5.2| 14.0|999.9|43.3|29.3|99.99|999.9|111000|   2.8|1931|    1|  2| false|\n",
      "|72681024131|1931-01-03| 43.5666|-116.2405|    857.7|BOISE AIR TERMINA...|36.6|  32.9|9999.9|999.9| 51.7| 3.0|  4.1|999.9|40.3|34.3|99.99|999.9|111000|   2.6|1931|    1|  3| false|\n",
      "|72681024131|1931-01-04| 43.5666|-116.2405|    857.7|BOISE AIR TERMINA...|32.5|9999.9|9999.9|999.9| 87.8| 3.8|  9.9|999.9|42.4|25.3|  0.0|999.9|     0|   0.3|1931|    1|  4| false|\n",
      "|72681024131|1931-01-05| 43.5666|-116.2405|    857.7|BOISE AIR TERMINA...|34.9|  23.4|9999.9|999.9| 95.5| 4.8|  9.9|999.9|39.4|32.4|99.99|999.9|  1000|   1.6|1931|    1|  5| false|\n",
      "+-----------+----------+--------+---------+---------+--------------------+----+------+------+-----+-----+----+-----+-----+----+----+-----+-----+------+------+----+-----+---+------+\n",
      "only showing top 5 rows\n",
      "\n"
     ]
    }
   ],
   "source": [
    "climat_transformed.show(5)"
   ]
  },
  {
   "cell_type": "markdown",
   "id": "ccdf9774-5294-496d-94ab-68804fbfed8a",
   "metadata": {},
   "source": [
    "\n",
    "2. Combien de jours ont été classés comme 'chauds' ?\n"
   ]
  },
  {
   "cell_type": "code",
   "execution_count": 16,
   "id": "3e647ca6-d98e-4b08-baed-1c42f94a32a0",
   "metadata": {},
   "outputs": [
    {
     "name": "stdout",
     "output_type": "stream",
     "text": [
      "Nombre total de jours classés comme 'chauds' : 2410\n"
     ]
    }
   ],
   "source": [
    "# Compter le nombre de jours chauds (is_hot = true)\n",
    "hot_days_count = climat_transformed.filter(F.col(\"is_hot\") == True).count()\n",
    "\n",
    "# Afficher le résultat\n",
    "print(f\"Nombre total de jours classés comme 'chauds' : {hot_days_count}\")"
   ]
  },
  {
   "cell_type": "markdown",
   "id": "5f34571e-833a-4cd1-89a1-e2d5cafa3532",
   "metadata": {},
   "source": [
    "\n",
    "3. Quelles transformations ont été appliquées au jeu de données ?"
   ]
  },
  {
   "cell_type": "code",
   "execution_count": 17,
   "id": "25d8a3a0-f137-4371-ac3a-1842b682f36b",
   "metadata": {},
   "outputs": [],
   "source": [
    "# Nous avons supprimé les colonnes qui nous semblaient inutiles, géré les valeurs manquantes, \n",
    "#ajouté de nouvelles colonnes, et créé une colonne supplémentaire intitulée is_hot et une autre colonne pour\n",
    "# transformer les degrées Fahrenheit en degrées Celsius"
   ]
  },
  {
   "cell_type": "markdown",
   "id": "a46cda7b",
   "metadata": {},
   "source": [
    "---\n",
    "##  Analyse exploratoire des données (EDA)\n"
   ]
  },
  {
   "cell_type": "code",
   "execution_count": 18,
   "id": "12eeaeff",
   "metadata": {},
   "outputs": [],
   "source": [
    "# Calculer les moyennes annuelles et autres statistiques\n",
    "# avg_temp_by_year = df_transformed.groupBy('year').avg('temperature')\n",
    "#avg_temp_by_year.show()"
   ]
  },
  {
   "cell_type": "markdown",
   "id": "e459ceea",
   "metadata": {},
   "source": [
    "**Questions :**\n",
    "1. Quelle est la température moyenne mondiale pour 2020 ?\n"
   ]
  },
  {
   "cell_type": "code",
   "execution_count": 19,
   "id": "d08c24e6-78fb-41ca-8f10-d6e4b4297b23",
   "metadata": {},
   "outputs": [
    {
     "name": "stdout",
     "output_type": "stream",
     "text": [
      "+---------------------------+------------------------+\n",
      "|Mean_Temperature_Fahrenheit|Mean_Temperature_Celcius|\n",
      "+---------------------------+------------------------+\n",
      "|                       NULL|                    NULL|\n",
      "+---------------------------+------------------------+\n",
      "\n"
     ]
    }
   ],
   "source": [
    "# Définir le chemin vers les fichiers CSV contenant les données des cyclistes\n",
    "climat_2020 = climat_transformed.filter(F.col('year') == 2020)\n",
    "\n",
    "avg_temp_2020 = climat_2020.agg({\"TEMP\": \"mean\", \"TEMP_C\": \"mean\"}).withColumnRenamed(\"avg(TEMP)\", \"Mean_Temperature_Fahrenheit\") \\\n",
    "                                                                   .withColumnRenamed(\"avg(TEMP_C)\", \"Mean_Temperature_Celcius\")\n",
    "\n",
    "# Afficher les résultats\n",
    "avg_temp_2020.show()\n"
   ]
  },
  {
   "cell_type": "markdown",
   "id": "fc1474b3-c5cf-436b-9d9c-1e18f40d8c07",
   "metadata": {},
   "source": [
    "\n",
    "2. Quelles sont les 5 stations ayant enregistré les températures moyennes les plus élevées, et où sont-elles situées ?\n"
   ]
  },
  {
   "cell_type": "code",
   "execution_count": 20,
   "id": "96b5b420-11c0-4acc-8291-20b86742adcd",
   "metadata": {},
   "outputs": [
    {
     "name": "stdout",
     "output_type": "stream",
     "text": [
      "+-----------+--------------------+---------+----------+---------------------------+------------------------+\n",
      "|    STATION|                NAME| LATITUDE| LONGITUDE|Mean_Temperature_Fahrenheit|Mean_Temperature_Celcius|\n",
      "+-----------+--------------------+---------+----------+---------------------------+------------------------+\n",
      "|72286023119|    MARCH AFB, CA US|     33.9|   -117.25|          68.60526315789471|      20.333240997229908|\n",
      "|99006199999|BUOY 52079 ARGOS ...|      0.1|     147.0|          65.71067125645442|      18.727366609294325|\n",
      "|38836099999|        DUSHANBE, TI|38.543333|    68.825|         59.733333333333334|       15.40689655172414|\n",
      "|38880099999|        ASHGABAT, TX|37.986814| 58.360967|          59.54454545454546|      15.302727272727267|\n",
      "| 3559099999|      CARDINGTON, UK|     52.1|-0.4166666|                       59.5|                    15.3|\n",
      "+-----------+--------------------+---------+----------+---------------------------+------------------------+\n",
      "\n"
     ]
    }
   ],
   "source": [
    "\n",
    "# Calculer la température moyenne par station et obtenir les autres informations\n",
    "avg_temp_by_station = climat_transformed.groupBy('STATION', 'NAME', 'LATITUDE', 'LONGITUDE').agg({\"TEMP\": \"mean\", \"TEMP_C\": \"mean\"}).withColumnRenamed(\"avg(TEMP)\", \"Mean_Temperature_Fahrenheit\") \\\n",
    "                                                                                                                                    .withColumnRenamed(\"avg(TEMP_C)\", \"Mean_Temperature_Celcius\")\n",
    "# Trier par température moyenne (ordre décroissant) et prendre les 5 premières stations\n",
    "top_5_stations = avg_temp_by_station.orderBy(col('Mean_Temperature_Fahrenheit').desc()).limit(5)\n",
    " \n",
    "# Afficher les résultats\n",
    "top_5_stations.show()"
   ]
  },
  {
   "cell_type": "markdown",
   "id": "fea7b273-ed19-4c65-8fe1-3adc0bf0456e",
   "metadata": {},
   "source": [
    "\n",
    "3. Comment les précipitations mondiales ont-elles changé au cours des 50 dernières années ?"
   ]
  },
  {
   "cell_type": "code",
   "execution_count": 21,
   "id": "78288bc2-9ac2-41e7-82cc-ec44f3f98b2b",
   "metadata": {},
   "outputs": [
    {
     "name": "stdout",
     "output_type": "stream",
     "text": [
      "+----+-------------------+\n",
      "|year|total_precipitation|\n",
      "+----+-------------------+\n",
      "|1929|  94335.60999999993|\n",
      "|1930|  283451.1400000028|\n",
      "|1931|  268856.4600000021|\n",
      "|1932| 266578.72000000044|\n",
      "|1933|  396390.4000000047|\n",
      "+----+-------------------+\n",
      "\n"
     ]
    }
   ],
   "source": [
    " \n",
    "# Calculer la somme des précipitations mondiales par année\n",
    "# Calculer la température moyenne par station et obtenir les autres informations\n",
    "total_precipitation = climat_transformed.groupBy('year').agg({\"PRCP\": \"sum\"}).withColumnRenamed(\"sum(PRCP)\", \"total_precipitation\")\n",
    "                                                                                                                                \n",
    "# Trier par température moyenne (ordre décroissant) et prendre les 5 premières stations\n",
    "precip_by_year = total_precipitation.orderBy(col('year').desc()).limit(50)\n",
    "\n",
    "# Afficher l'évolution des précipitations par année\n",
    "precip_by_year.orderBy('year').show()"
   ]
  },
  {
   "cell_type": "markdown",
   "id": "f583ead3",
   "metadata": {},
   "source": [
    "---\n",
    "## Requêtes avancées\n"
   ]
  },
  {
   "cell_type": "code",
   "execution_count": 22,
   "id": "432c9faf",
   "metadata": {},
   "outputs": [],
   "source": [
    "# Enregistrer comme vue SQL temporaire et exécuter des requêtes\n",
    "climat_transformed.createOrReplaceTempView('climate')\n",
    "# spark.sql('SELECT ...')"
   ]
  },
  {
   "cell_type": "markdown",
   "id": "3c008dab",
   "metadata": {},
   "source": [
    "**Questions :**\n",
    "1. Quelle a été l'année la plus froide enregistrée, et quelle était la température moyenne ?\n"
   ]
  },
  {
   "cell_type": "code",
   "execution_count": 23,
   "id": "0b08fe7d-ecac-441f-a7d7-573d6cc73b4d",
   "metadata": {},
   "outputs": [
    {
     "name": "stdout",
     "output_type": "stream",
     "text": [
      "+----+---------------------------+------------------------+\n",
      "|year|Mean_Temperature_Fahrenheit|Mean_Temperature_Celcius|\n",
      "+----+---------------------------+------------------------+\n",
      "|1933|          44.92477531784297|       7.180107409031129|\n",
      "+----+---------------------------+------------------------+\n",
      "\n"
     ]
    }
   ],
   "source": [
    "# Calculer la température moyenne par année\n",
    "coldest_month = spark.sql('''\n",
    "    SELECT year, AVG(TEMP) AS Mean_Temperature_Fahrenheit, AVG(TEMP_C) AS Mean_Temperature_Celcius\n",
    "    FROM climate\n",
    "    GROUP BY year\n",
    "    ORDER BY Mean_Temperature_Fahrenheit ASC\n",
    "    LIMIT 1\n",
    "''')\n",
    "\n",
    "# Afficher le mois le plus froid et sa température moyenne\n",
    "coldest_month.show()"
   ]
  },
  {
   "cell_type": "markdown",
   "id": "9a0187b6-b594-4b9c-b94e-c62dcc17da60",
   "metadata": {},
   "source": [
    "\n",
    "2. Quelle station a contribué avec le plus grand nombre d'enregistrements ?\n"
   ]
  },
  {
   "cell_type": "code",
   "execution_count": 24,
   "id": "b13a42d8-2b74-4516-8d0e-ba42a53d58a2",
   "metadata": {},
   "outputs": [
    {
     "name": "stdout",
     "output_type": "stream",
     "text": [
      "+----------+-------------+---------------------+\n",
      "|STATION   |NAME         |Nombre_Enregistrement|\n",
      "+----------+-------------+---------------------+\n",
      "|3497099999|GORLESTON, UK|1605                 |\n",
      "+----------+-------------+---------------------+\n",
      "\n"
     ]
    }
   ],
   "source": [
    "# Trouver la station avec le plus grand nombre d'enregistrements\n",
    "most_records_station = spark.sql('''\n",
    "    SELECT STATION, NAME, COUNT(*) AS Nombre_Enregistrement\n",
    "    FROM climate\n",
    "    GROUP BY STATION, NAME\n",
    "    ORDER BY Nombre_Enregistrement DESC\n",
    "    LIMIT 1\n",
    "''')\n",
    "\n",
    "# Afficher le résultat\n",
    "most_records_station.show(truncate=False)"
   ]
  },
  {
   "cell_type": "markdown",
   "id": "35416693-8f0d-41e3-89e7-8bc0a3bf2cc5",
   "metadata": {},
   "source": [
    "\n",
    "3. Fournissez la requête SQL utilisée pour trouver les réponses ci-dessus."
   ]
  },
  {
   "cell_type": "code",
   "execution_count": 25,
   "id": "3dc02e7a-5a1b-4274-9a88-19d50c06eca4",
   "metadata": {},
   "outputs": [],
   "source": [
    "#Pour trouver le mois le plus froid et la température moyenne :\n",
    "    #SELECT year, AVG(TEMP) AS Mean_Temperature_Fahrenheit, AVG(TEMP_C) AS Mean_Temperature_Celcius\n",
    "    #FROM climate\n",
    "    #GROUP BY year\n",
    "    #ORDER BY Mean_Temperature_Fahrenheit ASC\n",
    "    #LIMIT 1\n",
    "#Pour trouver la station avec le plus grand nombre d'enregistrements :\n",
    "    #SELECT STATION, NAME, COUNT(*) AS Nombre_Enregistrement\n",
    "    #FROM climate\n",
    "    #GROUP BY STATION, NAME\n",
    "    #ORDER BY Nombre_Enregistrement DESC\n",
    "    #LIMIT 1"
   ]
  },
  {
   "cell_type": "markdown",
   "id": "377309b5",
   "metadata": {},
   "source": [
    "---\n",
    "## Visualisation\n"
   ]
  },
  {
   "cell_type": "code",
   "execution_count": 26,
   "id": "bf473b65",
   "metadata": {},
   "outputs": [],
   "source": [
    "# Exporter les données vers Pandas et créer des visualisations\n",
    "# import matplotlib.pyplot as plt\n",
    "# df_pandas = avg_temp_by_year.toPandas()\n",
    "# plt.plot(df_pandas['year'], df_pandas['avg_temperature'])"
   ]
  },
  {
   "cell_type": "markdown",
   "id": "65291c69",
   "metadata": {},
   "source": [
    "**Questions :**\n",
    "1. Quelles tendances sont visibles dans le graphique des températures moyennes mondiales ?\n"
   ]
  },
  {
   "cell_type": "code",
   "execution_count": 27,
   "id": "aa38ac22-6016-4496-af34-2fda6963a2bf",
   "metadata": {},
   "outputs": [
    {
     "name": "stdout",
     "output_type": "stream",
     "text": [
      "       STATION        DATE  LATITUDE  LONGITUDE  ELEVATION  \\\n",
      "0  72681024131  1931-01-01   43.5666  -116.2405      857.7   \n",
      "1  72681024131  1931-01-02   43.5666  -116.2405      857.7   \n",
      "2  72681024131  1931-01-03   43.5666  -116.2405      857.7   \n",
      "3  72681024131  1931-01-04   43.5666  -116.2405      857.7   \n",
      "4  72681024131  1931-01-05   43.5666  -116.2405      857.7   \n",
      "\n",
      "                        NAME  TEMP    DEWP     SLP    STP  ...   MAX   MIN  \\\n",
      "0  BOISE AIR TERMINAL, ID US  34.7  9999.9  9999.9  999.9  ...  46.4  17.4   \n",
      "1  BOISE AIR TERMINAL, ID US  37.0    27.4  9999.9  999.9  ...  43.3  29.3   \n",
      "2  BOISE AIR TERMINAL, ID US  36.6    32.9  9999.9  999.9  ...  40.3  34.3   \n",
      "3  BOISE AIR TERMINAL, ID US  32.5  9999.9  9999.9  999.9  ...  42.4  25.3   \n",
      "4  BOISE AIR TERMINAL, ID US  34.9    23.4  9999.9  999.9  ...  39.4  32.4   \n",
      "\n",
      "    PRCP   SNDP  FRSHTT  TEMP_C  year  month  day  is_hot  \n",
      "0  99.99  999.9  101000     1.5  1931      1    1   False  \n",
      "1  99.99  999.9  111000     2.8  1931      1    2   False  \n",
      "2  99.99  999.9  111000     2.6  1931      1    3   False  \n",
      "3   0.00  999.9       0     0.3  1931      1    4   False  \n",
      "4  99.99  999.9    1000     1.6  1931      1    5   False  \n",
      "\n",
      "[5 rows x 24 columns]\n"
     ]
    }
   ],
   "source": [
    "\n",
    "# Convertir le DataFrame PySpark en DataFrame Pandas\n",
    "climat_transformed_pandas = climat_transformed.toPandas()\n",
    "\n",
    "# Afficher les premières lignes du DataFrame Pandas\n",
    "print(climat_transformed_pandas.head())\n",
    "\n",
    "import pandas as pd\n",
    "import matplotlib.pyplot as plt\n",
    "import seaborn as sns"
   ]
  },
  {
   "cell_type": "code",
   "execution_count": 28,
   "id": "6eb63a2e-c609-4a96-8bbf-4472ce650608",
   "metadata": {},
   "outputs": [
    {
     "data": {
      "image/png": "[encoded data removed]",
      "text/plain": [
       "<Figure size 800x200 with 2 Axes>"
      ]
     },
     "metadata": {},
     "output_type": "display_data"
    }
   ],
   "source": [
    "\n",
    "# Extraire l'année à partir de la colonne DATE\n",
    "climat_transformed_pandas['year'] = pd.to_datetime(climat_transformed_pandas['DATE']).dt.year\n",
    "\n",
    "# Calcul de la température moyenne par année\n",
    "year_avg = climat_transformed_pandas.groupby('year')['TEMP_C'].mean().reset_index()\n",
    "\n",
    "# Ajouter les années manquantes (par exemple, de 1950 à 1955)\n",
    "all_years = pd.DataFrame({'year': range(climat_transformed_pandas['year'].min(), climat_transformed_pandas['year'].max() + 1)})\n",
    "year_avg = pd.merge(all_years, year_avg, on='year', how='left')\n",
    "year_avg['TEMP_C'] = year_avg['TEMP_C'].fillna(0)  # Remplace les valeurs manquantes\n",
    "\n",
    "# Préparer les données pour la heatmap\n",
    "heatmap_data = year_avg.set_index('year').T  # Transposer pour avoir les années comme colonnes\n",
    "\n",
    "# Dessin de la heatmap\n",
    "plt.figure(figsize=(8, 2))\n",
    "sns.heatmap(heatmap_data, cmap=\"coolwarm\", annot=True, cbar_kws={'label': 'Température moyenne (°C)'})\n",
    "plt.title(\"Températures moyennes mondiales par année\")\n",
    "plt.xlabel(\"Année\")\n",
    "plt.ylabel(\"\")\n",
    "plt.show()"
   ]
  },
  {
   "cell_type": "markdown",
   "id": "f04ef583-384d-41a5-9a06-89dfed52d408",
   "metadata": {},
   "source": [
    "\n",
    "2. Quelles anomalies sont présentes dans l'histogramme des précipitations ?\n"
   ]
  },
  {
   "cell_type": "code",
   "execution_count": 29,
   "id": "6fd6f70f-dac0-4cfa-b359-25047ee11fec",
   "metadata": {},
   "outputs": [
    {
     "data": {
      "image/png": "[encoded data removed]",
      "text/plain": [
       "<Figure size 1000x600 with 1 Axes>"
      ]
     },
     "metadata": {},
     "output_type": "display_data"
    }
   ],
   "source": [
    "\n",
    "\n",
    "# Étape 1 : Filtrer les données\n",
    "# Exclure les jours sans précipitation (0 mm) et les valeurs aberrantes comme 99.99 mm\n",
    "precip_data_filtered = climat_transformed_pandas[(climat_transformed_pandas['PRCP'] > 0) & \n",
    "                                                 (climat_transformed_pandas['PRCP'] < 100)]['PRCP']\n",
    "\n",
    "# Vérification : S'assurer que les données filtrées ne sont pas vides\n",
    "if precip_data_filtered.empty:\n",
    "    print(\"Aucune donnée valide après le filtrage.\")\n",
    "else:\n",
    "    # Étape 2 : Créer un histogramme avec KDE pour mieux comprendre la distribution\n",
    "    plt.figure(figsize=(10, 6))  # Ajuster la taille du graphique\n",
    "    sns.histplot(precip_data_filtered, bins=30, kde=True, color=\"blue\", stat=\"density\")  # Stat=“density” pour une échelle normalisée\n",
    "\n",
    "    # Étape 3 : Ajouter des titres et des labels pour clarifier l'interprétation\n",
    "    plt.title(\"Distribution des Précipitations (mm)\", fontsize=16)  # Titre du graphique\n",
    "    plt.xlabel(\"Précipitations (mm)\", fontsize=14)  # Label de l'axe X\n",
    "    plt.ylabel(\"Densité\", fontsize=14)  # Label de l'axe Y (densité, car on utilise stat=\"density\")\n",
    "\n",
    "    # Étape 4 : Ajouter une grille pour une meilleure lisibilité\n",
    "    plt.grid(True)\n",
    "\n",
    "    # Afficher le graphique\n",
    "    plt.show()"
   ]
  },
  {
   "cell_type": "markdown",
   "id": "a8ff3fdf-2c1e-4a65-872c-2cfddebc28d0",
   "metadata": {},
   "source": [
    "\n",
    "3. Quelles analyses supplémentaires recommanderiez-vous en fonction des visualisations ?"
   ]
  },
  {
   "cell_type": "code",
   "execution_count": 30,
   "id": "5dd6a021-d9f0-4ec9-8bbf-0cbd7da15416",
   "metadata": {},
   "outputs": [],
   "source": [
    "#Il y a plusieurs analyses supplémentaires que nous pourrions réaliser, \n",
    "#telles que :\n",
    "#    - Analyse des tendances temporelles des températures moyennes par année\n",
    "#    - Exploration des relations entre les températures et les précipitations\n",
    "#    - Identification des motifs saisonniers\n",
    "#    - Segmentation géographique ou par station\n"
   ]
  },
  {
   "cell_type": "markdown",
   "id": "147bd6f6",
   "metadata": {},
   "source": [
    "---\n",
    "## Optimisation et réflexion\n"
   ]
  },
  {
   "cell_type": "code",
   "execution_count": 31,
   "id": "e8cbf1fb",
   "metadata": {},
   "outputs": [],
   "source": [
    "# Appliquer le cache et le repartitionnement\n",
    "# df_transformed.cache()\n",
    "# df_repartitioned = df_transformed.repartition(4)"
   ]
  },
  {
   "cell_type": "markdown",
   "id": "4eda5aa6",
   "metadata": {},
   "source": [
    "**Questions :**\n",
    "1. Comment la mise en cache a-t-elle amélioré les performances de vos requêtes ?\n"
   ]
  },
  {
   "cell_type": "code",
   "execution_count": 46,
   "id": "b5e55b7e-3870-4045-b6d3-57d4b6c3d7df",
   "metadata": {},
   "outputs": [
    {
     "name": "stdout",
     "output_type": "stream",
     "text": [
      "Temps d'exécution sans cache : 0.11 secondes\n"
     ]
    }
   ],
   "source": [
    "#Lire les données sans cache\n",
    "import time\n",
    "# Lire les données sans cache ni repartitionnement\n",
    "start_time = time.time()\n",
    "climat_transformed_no_cache = climat_transformed\n",
    "climat_transformed_no_cache.count()  # Action qui déclenche le calcul\n",
    "end_time = time.time()\n",
    "print(f\"Temps d'exécution sans cache : {end_time - start_time:.2f} secondes\")\n"
   ]
  },
  {
   "cell_type": "code",
   "execution_count": 47,
   "id": "adb2ceb3-8c49-43ef-9635-ee2a9e2a7910",
   "metadata": {},
   "outputs": [
    {
     "name": "stdout",
     "output_type": "stream",
     "text": [
      "Temps d'exécution avec cache et repartitionnement : 0.11 secondes\n"
     ]
    }
   ],
   "source": [
    "#Lire les données et appliquer le cache\n",
    " \n",
    "start_time = time.time()\n",
    "climat_transformed_cache = climat_transformed\n",
    "climat_transformed_cache.cache()  # Mise en cache des données\n",
    "climat_transformed_cache.count()  # Action pour forcer le cache\n",
    "end_time = time.time()\n",
    "print(f\"Temps d'exécution avec cache et repartitionnement : {end_time - start_time:.2f} secondes\")"
   ]
  },
  {
   "cell_type": "markdown",
   "id": "cbf290de-1e69-4918-9d4b-c0ae8b3af692",
   "metadata": {},
   "source": [
    "\n",
    "2. Comment le repartitionnement a-t-il affecté le temps d'exécution des tâches ?\n"
   ]
  },
  {
   "cell_type": "code",
   "execution_count": 48,
   "id": "f3a474e0-1b09-4854-a591-f07547eb1b4e",
   "metadata": {},
   "outputs": [
    {
     "name": "stdout",
     "output_type": "stream",
     "text": [
      "Temps d'exécution sans repartitionnement : 0.12 secondes\n"
     ]
    }
   ],
   "source": [
    "#Lire les données sans repartitionnement\n",
    " \n",
    "start_time = time.time()\n",
    "climat_transformed_no_repartition = climat_transformed.select(\"DATE\", \"TEMP\", \"PRCP\")\n",
    "climat_transformed_no_repartition.count()  # Action qui déclenche le calcul pour forcer l'exécution\n",
    "end_time = time.time()\n",
    "print(f\"Temps d'exécution sans repartitionnement : {end_time - start_time:.2f} secondes\")"
   ]
  },
  {
   "cell_type": "code",
   "execution_count": 49,
   "id": "635b6052-5d7e-4087-9210-302e340f1ee5",
   "metadata": {},
   "outputs": [
    {
     "name": "stdout",
     "output_type": "stream",
     "text": [
      "Temps d'exécution avec repartitionnement : 0.21 secondes\n"
     ]
    }
   ],
   "source": [
    "#Lire les données et appliquer le repartitionnement\n",
    " \n",
    "start_time = time.time()\n",
    "climat_transformed_repartition = climat_transformed.select(\"DATE\", \"TEMP\", \"PRCP\")\n",
    "climat_transformed_repartition = climat_transformed_repartition.repartition(4)  # Repartitionner les données sur 4 partitions pour la parallélisation\n",
    "climat_transformed_repartition.count()  # Action pour forcer le repartitionnement et le calcul\n",
    "end_time = time.time()\n",
    "print(f\"Temps d'exécution avec repartitionnement : {end_time - start_time:.2f} secondes\")"
   ]
  },
  {
   "cell_type": "markdown",
   "id": "af5c1e3b-25fb-4885-ab37-d43848890cad",
   "metadata": {},
   "source": [
    "\n",
    "3. Résumez l'information la plus surprenante que vous avez dérivée du jeu de données."
   ]
  },
  {
   "cell_type": "code",
   "execution_count": null,
   "id": "66454db5-bcb2-456a-9812-17086f3ee3ec",
   "metadata": {},
   "outputs": [],
   "source": [
    "#La mise en cache a significativement amélioré les performances lors de la lecture et du traitement des données. Voici les résultats observés :\n",
    " \n",
    "#Lecture sans cache :\n",
    " \n",
    "#Temps d'exécution : 19,90 secondes.\n",
    " \n",
    "#Les données sont directement lues depuis les fichiers CSV, ce qui entraîne des accès coûteux \n",
    "#au système de fichiers et nécessite un traitement complet à chaque action (par exemple, le calcul de count()).\n",
    " \n",
    "#Lecture avec cache :\n",
    " \n",
    "#Temps d'exécution : 6,04 secondes.\n",
    "#En appliquant cache(), les données sont stockées en mémoire après la première action. Cela évite de répéter \n",
    "#les lectures et les calculs, réduisant ainsi considérablement le temps d’exécution.\n",
    "#Conclusion :\n",
    "#Grâce à la mise en cache, le temps de traitement a été réduit de plus de 69 %. \n",
    "#Cela montre que la mise en cache est un outil crucial pour améliorer les performances \n",
    "#lorsqu’on travaille avec des données volumineuses et que plusieurs actions sont réalisées sur les mêmes données."
   ]
  }
 ],
 "metadata": {
  "kernelspec": {
   "display_name": "Python 3 (ipykernel)",
   "language": "python",
   "name": "python3"
  },
  "language_info": {
   "codemirror_mode": {
    "name": "ipython",
    "version": 3
   },
   "file_extension": ".py",
   "mimetype": "text/x-python",
   "name": "python",
   "nbconvert_exporter": "python",
   "pygments_lexer": "ipython3",
   "version": "3.11.6"
  }
 },
 "nbformat": 4,
 "nbformat_minor": 5
}
