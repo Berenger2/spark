{
 "cells": [
  {
   "cell_type": "markdown",
   "metadata": {},
   "source": [
    "###### Etude de cas : analyse des fichiers de logs des cyclistes\n",
    "\n",
    "Objectif: A partir des fichiers contenu dans le dossier ./data/Cyclistes, calculer la durée de chacun des trajets effectués par chaque cycliste."
   ]
  },
  {
   "cell_type": "code",
   "execution_count": 3,
   "metadata": {},
   "outputs": [],
   "source": [
    "from pyspark.sql import SparkSession\n",
    "from pyspark.sql.types import *\n",
    "from pyspark.sql import functions as F\n",
    "from pyspark.sql.types import TimestampType\n",
    "from pyspark.sql.functions import udf\n",
    "from pyspark.sql.window import Window"
   ]
  },
  {
   "cell_type": "code",
   "execution_count": null,
   "metadata": {},
   "outputs": [],
   "source": []
  },
  {
   "cell_type": "markdown",
   "metadata": {},
   "source": [
    "## 1)  Charger la donnée\n",
    "\n",
    "Créez une seesion Spark et chargez les données Cyclistes."
   ]
  },
  {
   "cell_type": "code",
   "execution_count": 4,
   "metadata": {},
   "outputs": [],
   "source": [
    "spark = SparkSession.builder.getOrCreate()"
   ]
  },
  {
   "cell_type": "code",
   "execution_count": 8,
   "metadata": {},
   "outputs": [],
   "source": [
    "path = \"./data/Cyclistes/*.csv\" \n",
    "cyclistes = spark.read.format(\"csv\").option(\"header\", \"true\").load(path, inferSchema=True)"
   ]
  },
  {
   "cell_type": "code",
   "execution_count": 9,
   "metadata": {},
   "outputs": [
    {
     "data": {
      "text/plain": [
       "2232000"
      ]
     },
     "execution_count": 9,
     "metadata": {},
     "output_type": "execute_result"
    }
   ],
   "source": [
    "cyclistes.count()"
   ]
  },
  {
   "cell_type": "code",
   "execution_count": null,
   "metadata": {},
   "outputs": [],
   "source": []
  },
  {
   "cell_type": "code",
   "execution_count": 11,
   "metadata": {
    "scrolled": true
   },
   "outputs": [
    {
     "name": "stdout",
     "output_type": "stream",
     "text": [
      "root\n",
      " |-- id: integer (nullable = true)\n",
      " |-- timestamp: timestamp (nullable = true)\n",
      " |-- sur_velo: boolean (nullable = true)\n",
      " |-- velo: string (nullable = true)\n",
      " |-- vitesse: double (nullable = true)\n",
      " |-- position: string (nullable = true)\n",
      " |-- destination_finale: string (nullable = true)\n",
      "\n"
     ]
    }
   ],
   "source": [
    "cyclistes.printSchema()"
   ]
  },
  {
   "cell_type": "code",
   "execution_count": 12,
   "metadata": {},
   "outputs": [
    {
     "name": "stdout",
     "output_type": "stream",
     "text": [
      "+---+-------------------+--------+-----+--------------------+-------------------+------------------+\n",
      "| id|          timestamp|sur_velo| velo|             vitesse|           position|destination_finale|\n",
      "+---+-------------------+--------+-----+--------------------+-------------------+------------------+\n",
      "| 12|2018-01-01 00:01:00|   false|False|0.030000000000000006|(lon:2.07 lat:1.24)|             False|\n",
      "| 12|2018-01-01 00:02:00|   false|False|0.030000000000000006|(lon:2.07 lat:1.24)|             False|\n",
      "| 12|2018-01-01 00:03:00|   false|False|0.030000000000000006|(lon:2.07 lat:1.24)|             False|\n",
      "| 12|2018-01-01 00:04:00|   false|False|0.030000000000000006|(lon:2.07 lat:1.24)|             False|\n",
      "| 12|2018-01-01 00:05:00|   false|False|0.030000000000000006|(lon:2.07 lat:1.24)|             False|\n",
      "+---+-------------------+--------+-----+--------------------+-------------------+------------------+\n",
      "only showing top 5 rows\n",
      "\n"
     ]
    }
   ],
   "source": [
    "cyclistes.show(5)"
   ]
  },
  {
   "cell_type": "markdown",
   "metadata": {},
   "source": [
    "## 2) Vérifier le nombre de cyclistes\n",
    "\n",
    "Comptez le nombre d'id uniques."
   ]
  },
  {
   "cell_type": "code",
   "execution_count": 13,
   "metadata": {},
   "outputs": [
    {
     "data": {
      "text/plain": [
       "50"
      ]
     },
     "execution_count": 13,
     "metadata": {},
     "output_type": "execute_result"
    }
   ],
   "source": [
    "cyclistes.select(\"id\").distinct().count()"
   ]
  },
  {
   "cell_type": "markdown",
   "metadata": {},
   "source": [
    "## 3) Transformer la colonne timestamp\n",
    "\n",
    "Lorsqu'on vérifie le type de donnée de la colonne timestamp UNIX, on voit qu'on a une chaîne de caractères. Pour calculer une durée on voudrait transformer en date exploitable en tant que telle.\n",
    "A l'aide d'une fonction udf, créez une nouvelle colonne date qui contiendra le résultat de la transformation des chaînes de caractères de la colonne timestamp en véritables timestamps."
   ]
  },
  {
   "cell_type": "code",
   "execution_count": 17,
   "metadata": {},
   "outputs": [],
   "source": [
    "@udf(returnType = TimestampType())\n",
    "def transform_timestamp_in_date(date_str):\n",
    "    from datetime import datetime\n",
    "    return datetime.strptime(date_str, \"%Y-%m-%d %H:%M:%S\")"
   ]
  },
  {
   "cell_type": "code",
   "execution_count": 19,
   "metadata": {},
   "outputs": [],
   "source": [
    "cyclistes = cyclistes.withColumn(\"date\", transform_timestamp_in_date(\"timestamp\"))"
   ]
  },
  {
   "cell_type": "code",
   "execution_count": null,
   "metadata": {},
   "outputs": [],
   "source": []
  },
  {
   "cell_type": "code",
   "execution_count": 20,
   "metadata": {
    "scrolled": true
   },
   "outputs": [
    {
     "name": "stdout",
     "output_type": "stream",
     "text": [
      "root\n",
      " |-- id: integer (nullable = true)\n",
      " |-- timestamp: timestamp (nullable = true)\n",
      " |-- sur_velo: boolean (nullable = true)\n",
      " |-- velo: string (nullable = true)\n",
      " |-- vitesse: double (nullable = true)\n",
      " |-- position: string (nullable = true)\n",
      " |-- destination_finale: string (nullable = true)\n",
      " |-- date: timestamp (nullable = true)\n",
      "\n"
     ]
    }
   ],
   "source": [
    "cyclistes.printSchema()"
   ]
  },
  {
   "cell_type": "markdown",
   "metadata": {},
   "source": [
    "## 4) Durée des trajets par id.\n",
    "\n",
    "1) Trouvez les dates min/max par état de sur_velo, puis par id ET par état de sur_velo."
   ]
  },
  {
   "cell_type": "code",
   "execution_count": 24,
   "metadata": {},
   "outputs": [
    {
     "name": "stdout",
     "output_type": "stream",
     "text": [
      "+--------+-------------------+-------------------+\n",
      "|sur_velo|     min(timestamp)|     max(timestamp)|\n",
      "+--------+-------------------+-------------------+\n",
      "|    true|2018-01-01 01:47:00|2018-01-31 21:32:00|\n",
      "|   false|2018-01-01 00:01:00|2018-02-01 00:00:00|\n",
      "+--------+-------------------+-------------------+\n",
      "\n"
     ]
    }
   ],
   "source": [
    "cyclistes.groupBy([\"sur_velo\"]).agg(F.min(cyclistes.timestamp), F.max(cyclistes.timestamp)).show()"
   ]
  },
  {
   "cell_type": "code",
   "execution_count": 25,
   "metadata": {},
   "outputs": [
    {
     "name": "stdout",
     "output_type": "stream",
     "text": [
      "+---+--------+-------------------+-------------------+\n",
      "| id|sur_velo|     min(timestamp)|     max(timestamp)|\n",
      "+---+--------+-------------------+-------------------+\n",
      "|  2|   false|2018-01-01 00:01:00|2018-02-01 00:00:00|\n",
      "|  2|    true|2018-01-01 12:33:00|2018-01-31 20:02:00|\n",
      "|  3|    true|2018-01-06 06:24:00|2018-01-28 19:33:00|\n",
      "|  3|   false|2018-01-01 00:01:00|2018-02-01 00:00:00|\n",
      "|  4|   false|2018-01-01 00:01:00|2018-02-01 00:00:00|\n",
      "+---+--------+-------------------+-------------------+\n",
      "only showing top 5 rows\n",
      "\n"
     ]
    }
   ],
   "source": [
    "cyclistes.sort([\"id\", \"timestamp\"]).groupBy([\"id\", \"sur_velo\"]).agg(F.min(cyclistes.timestamp), F.max(cyclistes.timestamp)).sort(\"id\").show(5)"
   ]
  },
  {
   "cell_type": "markdown",
   "metadata": {},
   "source": [
    "2) Le résultat n'est pas trés pertinent, il faudrait plutôt le début et la fin de chaque trajet par id. Pour cela, il faudrait détecter les changements d'état \"sur_vélo\".\n",
    "\n",
    "Créez une fonction python (voir fonction udf) qui permet de detecter ces changements d'état.\n",
    "Utilisez la classe Window() et la fonction F.lag() avec votre fonction udf pour créer une nouvelle colonne que vous appellerez changement, contenant un 0 si l'état précedent de sur_velo est le même et un 1 si l'état vient de changer pour chaque id."
   ]
  },
  {
   "cell_type": "code",
   "execution_count": 26,
   "metadata": {},
   "outputs": [],
   "source": [
    "@udf(returnType = IntegerType())\n",
    "def changement(etat_actuel, etat_precedent):\n",
    "    \"\"\"\n",
    "    Détecte si les deux états sont différent.\n",
    "    \n",
    "    Parametres :\n",
    "        etat_actuel : valeur sur la ligne courante\n",
    "                      renvoyée par F.lag (0)\n",
    "        etat_precedent : valeur sur la ligne précédente\n",
    "                      renvoyée par F.lag(1)\n",
    "    Return: 0 s'ils sont égaux, 1 s'il y a une différence\n",
    "    \"\"\"\n",
    "    if etat_precedent == None:\n",
    "        return 0\n",
    "    if etat_precedent == etat_actuel:\n",
    "        return 0\n",
    "    if etat_actuel != etat_precedent:\n",
    "        return 1"
   ]
  },
  {
   "cell_type": "code",
   "execution_count": 27,
   "metadata": {},
   "outputs": [],
   "source": [
    "w = Window.partitionBy(\"id\").orderBy(\"timestamp\")\n",
    "cyclistes = cyclistes.withColumn(\"changement\", changement( F.lag(\"sur_velo\", 0).over(w), F.lag(\"sur_velo\", 1).over(w)))"
   ]
  },
  {
   "cell_type": "code",
   "execution_count": 28,
   "metadata": {},
   "outputs": [
    {
     "name": "stdout",
     "output_type": "stream",
     "text": [
      "root\n",
      " |-- id: integer (nullable = true)\n",
      " |-- timestamp: timestamp (nullable = true)\n",
      " |-- sur_velo: boolean (nullable = true)\n",
      " |-- velo: string (nullable = true)\n",
      " |-- vitesse: double (nullable = true)\n",
      " |-- position: string (nullable = true)\n",
      " |-- destination_finale: string (nullable = true)\n",
      " |-- date: timestamp (nullable = true)\n",
      " |-- changement: integer (nullable = true)\n",
      "\n"
     ]
    }
   ],
   "source": [
    "cyclistes.printSchema()"
   ]
  },
  {
   "cell_type": "code",
   "execution_count": 32,
   "metadata": {},
   "outputs": [
    {
     "name": "stdout",
     "output_type": "stream",
     "text": [
      "+---+-------------------+--------+----------+\n",
      "| id|          timestamp|sur_velo|changement|\n",
      "+---+-------------------+--------+----------+\n",
      "|  3|2018-01-06 06:24:00|    true|         1|\n",
      "|  3|2018-01-06 06:25:00|    true|         0|\n",
      "|  3|2018-01-06 06:26:00|    true|         0|\n",
      "|  3|2018-01-06 06:27:00|    true|         0|\n",
      "|  3|2018-01-06 06:28:00|    true|         0|\n",
      "|  3|2018-01-06 06:29:00|    true|         0|\n",
      "|  3|2018-01-06 06:30:00|    true|         0|\n",
      "|  3|2018-01-06 06:31:00|    true|         0|\n",
      "|  3|2018-01-06 06:32:00|    true|         0|\n",
      "|  3|2018-01-06 06:33:00|    true|         0|\n",
      "|  3|2018-01-06 06:34:00|    true|         0|\n",
      "|  3|2018-01-06 06:35:00|    true|         0|\n",
      "|  3|2018-01-06 06:36:00|    true|         0|\n",
      "|  3|2018-01-06 06:37:00|    true|         0|\n",
      "|  3|2018-01-06 06:38:00|    true|         0|\n",
      "|  3|2018-01-06 06:39:00|    true|         0|\n",
      "|  3|2018-01-06 06:40:00|    true|         0|\n",
      "|  3|2018-01-06 06:41:00|    true|         0|\n",
      "|  3|2018-01-06 06:42:00|    true|         0|\n",
      "|  3|2018-01-06 06:43:00|    true|         0|\n",
      "|  3|2018-01-06 06:44:00|    true|         0|\n",
      "|  3|2018-01-06 06:45:00|    true|         0|\n",
      "|  3|2018-01-06 06:46:00|    true|         0|\n",
      "|  3|2018-01-06 06:47:00|    true|         0|\n",
      "|  3|2018-01-06 06:48:00|    true|         0|\n",
      "|  3|2018-01-06 06:49:00|    true|         0|\n",
      "|  3|2018-01-06 06:50:00|    true|         0|\n",
      "|  3|2018-01-06 06:51:00|    true|         0|\n",
      "|  3|2018-01-06 06:52:00|    true|         0|\n",
      "|  3|2018-01-06 06:53:00|    true|         0|\n",
      "|  3|2018-01-06 06:54:00|    true|         0|\n",
      "|  3|2018-01-06 06:55:00|    true|         0|\n",
      "|  3|2018-01-06 06:56:00|    true|         0|\n",
      "|  3|2018-01-06 06:57:00|    true|         0|\n",
      "|  3|2018-01-06 06:58:00|    true|         0|\n",
      "|  3|2018-01-06 06:59:00|    true|         0|\n",
      "|  3|2018-01-06 07:00:00|    true|         0|\n",
      "|  3|2018-01-06 07:01:00|    true|         0|\n",
      "|  3|2018-01-06 07:02:00|    true|         0|\n",
      "|  3|2018-01-06 07:03:00|    true|         0|\n",
      "|  3|2018-01-06 07:04:00|    true|         0|\n",
      "|  3|2018-01-06 07:05:00|    true|         0|\n",
      "|  3|2018-01-06 07:06:00|    true|         0|\n",
      "|  3|2018-01-06 07:07:00|    true|         0|\n",
      "|  3|2018-01-06 07:08:00|    true|         0|\n",
      "|  3|2018-01-06 07:09:00|    true|         0|\n",
      "|  3|2018-01-06 07:10:00|    true|         0|\n",
      "|  3|2018-01-06 07:11:00|    true|         0|\n",
      "|  3|2018-01-06 07:12:00|    true|         0|\n",
      "|  3|2018-01-06 07:13:00|    true|         0|\n",
      "|  3|2018-01-06 07:14:00|    true|         0|\n",
      "|  3|2018-01-06 07:15:00|    true|         0|\n",
      "|  3|2018-01-06 07:16:00|    true|         0|\n",
      "|  3|2018-01-06 07:17:00|    true|         0|\n",
      "|  3|2018-01-06 07:18:00|    true|         0|\n",
      "|  3|2018-01-06 07:19:00|    true|         0|\n",
      "|  3|2018-01-06 07:20:00|    true|         0|\n",
      "|  3|2018-01-06 07:21:00|    true|         0|\n",
      "|  3|2018-01-06 07:22:00|    true|         0|\n",
      "|  3|2018-01-06 07:23:00|    true|         0|\n",
      "|  3|2018-01-06 07:24:00|    true|         0|\n",
      "|  3|2018-01-06 07:25:00|    true|         0|\n",
      "|  3|2018-01-06 07:26:00|    true|         0|\n",
      "|  3|2018-01-06 07:27:00|    true|         0|\n",
      "|  3|2018-01-06 07:28:00|    true|         0|\n",
      "|  3|2018-01-06 07:29:00|    true|         0|\n",
      "|  3|2018-01-06 07:30:00|    true|         0|\n",
      "|  3|2018-01-06 07:31:00|    true|         0|\n",
      "|  3|2018-01-06 07:32:00|    true|         0|\n",
      "|  3|2018-01-06 07:33:00|    true|         0|\n",
      "|  3|2018-01-06 07:34:00|    true|         0|\n",
      "|  3|2018-01-06 07:35:00|    true|         0|\n",
      "|  3|2018-01-06 07:36:00|    true|         0|\n",
      "|  3|2018-01-06 07:37:00|    true|         0|\n",
      "|  3|2018-01-06 07:38:00|    true|         0|\n",
      "|  3|2018-01-06 07:39:00|    true|         0|\n",
      "|  3|2018-01-06 07:40:00|    true|         0|\n",
      "|  3|2018-01-06 07:41:00|    true|         0|\n",
      "|  3|2018-01-06 07:42:00|    true|         0|\n",
      "|  3|2018-01-06 07:43:00|    true|         0|\n",
      "|  3|2018-01-06 07:44:00|    true|         0|\n",
      "|  3|2018-01-06 07:45:00|    true|         0|\n",
      "|  3|2018-01-06 07:46:00|    true|         0|\n",
      "|  3|2018-01-06 07:47:00|    true|         0|\n",
      "|  3|2018-01-06 07:48:00|    true|         0|\n",
      "|  3|2018-01-06 07:49:00|    true|         0|\n",
      "|  3|2018-01-06 07:50:00|    true|         0|\n",
      "|  3|2018-01-06 07:51:00|    true|         0|\n",
      "|  3|2018-01-06 07:52:00|    true|         0|\n",
      "|  3|2018-01-06 07:53:00|    true|         0|\n",
      "|  3|2018-01-06 07:54:00|    true|         0|\n",
      "|  3|2018-01-06 07:55:00|    true|         0|\n",
      "|  3|2018-01-06 07:56:00|    true|         0|\n",
      "|  3|2018-01-06 07:57:00|    true|         0|\n",
      "|  3|2018-01-06 07:58:00|    true|         0|\n",
      "|  3|2018-01-06 07:59:00|    true|         0|\n",
      "|  3|2018-01-06 08:00:00|    true|         0|\n",
      "|  3|2018-01-06 08:01:00|    true|         0|\n",
      "|  3|2018-01-06 08:02:00|    true|         0|\n",
      "|  3|2018-01-06 08:03:00|    true|         0|\n",
      "+---+-------------------+--------+----------+\n",
      "only showing top 100 rows\n",
      "\n"
     ]
    }
   ],
   "source": [
    "cyclistes.select(\"id\", \"timestamp\", \"sur_velo\", \"changement\").sort(\"id\", \"timestamp\").filter((cyclistes.sur_velo == True) & (cyclistes.id != 2)).show(100)"
   ]
  },
  {
   "cell_type": "markdown",
   "metadata": {},
   "source": [
    "3) Grâce à cette nouvelle colonne changement, trouvez un moyen qui permettra de numeroter les trajets pour chaque id et stockez les résulats dans une nouvelle colonne appelée numero_de_trajet."
   ]
  },
  {
   "cell_type": "markdown",
   "metadata": {},
   "source": [
    "Solution 1 :"
   ]
  },
  {
   "cell_type": "code",
   "execution_count": 33,
   "metadata": {},
   "outputs": [],
   "source": [
    "@udf(returnType = IntegerType())\n",
    "def somme(changement, sur_velo):\n",
    "    global i\n",
    "    if sur_velo == 0:\n",
    "        return 0\n",
    "    elif changement == 1:\n",
    "        i += 1\n",
    "    return i"
   ]
  },
  {
   "cell_type": "code",
   "execution_count": 34,
   "metadata": {},
   "outputs": [],
   "source": [
    "i = 0\n",
    "cyclistes1 = cyclistes.withColumn(\"numero_trajet\", somme(F.lag(\"changement\", 0).over(w), F.lag(\"sur_velo\", 0).over(w)))"
   ]
  },
  {
   "cell_type": "code",
   "execution_count": 35,
   "metadata": {},
   "outputs": [
    {
     "name": "stdout",
     "output_type": "stream",
     "text": [
      "+---+-------------------+--------+----------+-------------+\n",
      "| id|          timestamp|sur_velo|changement|numero_trajet|\n",
      "+---+-------------------+--------+----------+-------------+\n",
      "|  2|2018-01-01 12:33:00|    true|         1|            1|\n",
      "|  2|2018-01-01 12:34:00|    true|         0|            1|\n",
      "|  2|2018-01-01 12:35:00|    true|         0|            1|\n",
      "|  2|2018-01-01 12:36:00|    true|         0|            1|\n",
      "|  2|2018-01-01 19:59:00|    true|         1|            2|\n",
      "|  2|2018-01-01 20:00:00|    true|         0|            2|\n",
      "|  2|2018-01-02 12:33:00|    true|         1|            3|\n",
      "|  2|2018-01-02 12:34:00|    true|         0|            3|\n",
      "|  2|2018-01-02 19:59:00|    true|         1|            4|\n",
      "|  2|2018-01-02 20:00:00|    true|         0|            4|\n",
      "+---+-------------------+--------+----------+-------------+\n",
      "only showing top 10 rows\n",
      "\n"
     ]
    }
   ],
   "source": [
    "cyclistes1.select(\"id\", \"timestamp\", \"sur_velo\", \"changement\", \"numero_trajet\").sort(\"id\", \"timestamp\").filter((cyclistes.sur_velo == True)).show(10)"
   ]
  },
  {
   "cell_type": "code",
   "execution_count": 36,
   "metadata": {},
   "outputs": [
    {
     "name": "stdout",
     "output_type": "stream",
     "text": [
      "+---+-------------------+--------+----------+-------------+\n",
      "| id|          timestamp|sur_velo|changement|numero_trajet|\n",
      "+---+-------------------+--------+----------+-------------+\n",
      "| 26|2018-01-01 07:50:00|    true|         1|            1|\n",
      "| 26|2018-01-01 07:51:00|    true|         0|            1|\n",
      "| 26|2018-01-01 17:55:00|    true|         1|            2|\n",
      "| 26|2018-01-01 17:56:00|    true|         0|            2|\n",
      "| 26|2018-01-02 07:50:00|    true|         1|            3|\n",
      "| 26|2018-01-02 07:51:00|    true|         0|            3|\n",
      "| 26|2018-01-02 17:55:00|    true|         1|            4|\n",
      "| 26|2018-01-02 17:56:00|    true|         0|            4|\n",
      "| 26|2018-01-04 07:54:00|    true|         1|            5|\n",
      "| 26|2018-01-04 07:55:00|    true|         0|            5|\n",
      "| 26|2018-01-04 07:56:00|    true|         0|            5|\n",
      "| 26|2018-01-04 17:55:00|    true|         1|            6|\n",
      "| 26|2018-01-04 17:56:00|    true|         0|            6|\n",
      "| 26|2018-01-05 07:50:00|    true|         1|            7|\n",
      "| 26|2018-01-05 07:51:00|    true|         0|            7|\n",
      "| 26|2018-01-05 17:55:00|    true|         1|            8|\n",
      "| 26|2018-01-05 17:56:00|    true|         0|            8|\n",
      "| 26|2018-01-06 07:50:00|    true|         1|            9|\n",
      "| 26|2018-01-06 07:51:00|    true|         0|            9|\n",
      "| 26|2018-01-06 17:55:00|    true|         1|           10|\n",
      "| 26|2018-01-06 17:56:00|    true|         0|           10|\n",
      "| 26|2018-01-07 07:50:00|    true|         1|           11|\n",
      "| 26|2018-01-07 07:51:00|    true|         0|           11|\n",
      "| 26|2018-01-07 17:55:00|    true|         1|           12|\n",
      "| 26|2018-01-07 17:56:00|    true|         0|           12|\n",
      "| 26|2018-01-08 07:50:00|    true|         1|           13|\n",
      "| 26|2018-01-08 07:51:00|    true|         0|           13|\n",
      "| 26|2018-01-08 17:55:00|    true|         1|           14|\n",
      "| 26|2018-01-08 17:56:00|    true|         0|           14|\n",
      "| 26|2018-01-09 07:50:00|    true|         1|           15|\n",
      "| 26|2018-01-09 07:51:00|    true|         0|           15|\n",
      "| 26|2018-01-09 17:55:00|    true|         1|           16|\n",
      "| 26|2018-01-09 17:56:00|    true|         0|           16|\n",
      "| 26|2018-01-11 07:50:00|    true|         1|           17|\n",
      "| 26|2018-01-11 07:51:00|    true|         0|           17|\n",
      "| 26|2018-01-11 17:55:00|    true|         1|           18|\n",
      "| 26|2018-01-11 17:56:00|    true|         0|           18|\n",
      "| 26|2018-01-11 17:57:00|    true|         0|           18|\n",
      "| 26|2018-01-11 17:58:00|    true|         0|           18|\n",
      "| 26|2018-01-12 07:50:00|    true|         1|           19|\n",
      "| 26|2018-01-12 07:51:00|    true|         0|           19|\n",
      "| 26|2018-01-12 17:55:00|    true|         1|           20|\n",
      "| 26|2018-01-12 17:56:00|    true|         0|           20|\n",
      "| 26|2018-01-13 07:54:00|    true|         1|           21|\n",
      "| 26|2018-01-13 07:55:00|    true|         0|           21|\n",
      "| 26|2018-01-13 07:56:00|    true|         0|           21|\n",
      "| 26|2018-01-13 17:55:00|    true|         1|           22|\n",
      "| 26|2018-01-13 17:56:00|    true|         0|           22|\n",
      "| 26|2018-01-14 07:50:00|    true|         1|           23|\n",
      "| 26|2018-01-14 07:51:00|    true|         0|           23|\n",
      "| 26|2018-01-14 17:55:00|    true|         1|           24|\n",
      "| 26|2018-01-14 17:56:00|    true|         0|           24|\n",
      "| 26|2018-01-15 07:50:00|    true|         1|           25|\n",
      "| 26|2018-01-15 07:51:00|    true|         0|           25|\n",
      "| 26|2018-01-15 17:55:00|    true|         1|           26|\n",
      "| 26|2018-01-15 17:56:00|    true|         0|           26|\n",
      "| 26|2018-01-16 07:50:00|    true|         1|           27|\n",
      "| 26|2018-01-16 07:51:00|    true|         0|           27|\n",
      "| 26|2018-01-16 17:55:00|    true|         1|           28|\n",
      "| 26|2018-01-16 17:56:00|    true|         0|           28|\n",
      "| 26|2018-01-18 07:50:00|    true|         1|           29|\n",
      "| 26|2018-01-18 07:51:00|    true|         0|           29|\n",
      "| 26|2018-01-18 17:55:00|    true|         1|           30|\n",
      "| 26|2018-01-18 17:56:00|    true|         0|           30|\n",
      "| 26|2018-01-19 07:50:00|    true|         1|           31|\n",
      "| 26|2018-01-19 07:51:00|    true|         0|           31|\n",
      "| 26|2018-01-19 17:55:00|    true|         1|           32|\n",
      "| 26|2018-01-19 17:56:00|    true|         0|           32|\n",
      "| 26|2018-01-20 07:50:00|    true|         1|           33|\n",
      "| 26|2018-01-20 07:51:00|    true|         0|           33|\n",
      "| 26|2018-01-20 18:03:00|    true|         1|           34|\n",
      "| 26|2018-01-20 18:04:00|    true|         0|           34|\n",
      "| 26|2018-01-20 18:05:00|    true|         0|           34|\n",
      "| 26|2018-01-20 18:06:00|    true|         0|           34|\n",
      "| 26|2018-01-20 18:07:00|    true|         0|           34|\n",
      "| 26|2018-01-20 18:08:00|    true|         0|           34|\n",
      "| 26|2018-01-21 07:50:00|    true|         1|           35|\n",
      "| 26|2018-01-21 07:51:00|    true|         0|           35|\n",
      "| 26|2018-01-21 17:55:00|    true|         1|           36|\n",
      "| 26|2018-01-21 17:56:00|    true|         0|           36|\n",
      "| 26|2018-01-22 07:50:00|    true|         1|           37|\n",
      "| 26|2018-01-22 07:51:00|    true|         0|           37|\n",
      "| 26|2018-01-22 17:55:00|    true|         1|           38|\n",
      "| 26|2018-01-22 17:56:00|    true|         0|           38|\n",
      "| 26|2018-01-23 07:50:00|    true|         1|           39|\n",
      "| 26|2018-01-23 07:51:00|    true|         0|           39|\n",
      "| 26|2018-01-23 07:52:00|    true|         0|           39|\n",
      "| 26|2018-01-23 07:53:00|    true|         0|           39|\n",
      "| 26|2018-01-23 07:54:00|    true|         0|           39|\n",
      "| 26|2018-01-23 07:55:00|    true|         0|           39|\n",
      "| 26|2018-01-23 17:55:00|    true|         1|           40|\n",
      "| 26|2018-01-23 17:56:00|    true|         0|           40|\n",
      "| 26|2018-01-25 07:50:00|    true|         1|           41|\n",
      "| 26|2018-01-25 07:51:00|    true|         0|           41|\n",
      "| 26|2018-01-25 18:03:00|    true|         1|           42|\n",
      "| 26|2018-01-25 18:04:00|    true|         0|           42|\n",
      "| 26|2018-01-25 18:05:00|    true|         0|           42|\n",
      "| 26|2018-01-25 18:06:00|    true|         0|           42|\n",
      "| 26|2018-01-26 10:33:00|    true|         1|           43|\n",
      "| 26|2018-01-26 10:34:00|    true|         0|           43|\n",
      "+---+-------------------+--------+----------+-------------+\n",
      "only showing top 100 rows\n",
      "\n"
     ]
    }
   ],
   "source": [
    "cyclistes1.select(\"id\", \"timestamp\", \"sur_velo\", \"changement\", \"numero_trajet\").sort(\"timestamp\").filter(cyclistes.id==26).where(cyclistes.sur_velo==1).show(100)"
   ]
  },
  {
   "cell_type": "code",
   "execution_count": 38,
   "metadata": {
    "tags": []
   },
   "outputs": [],
   "source": [
    "trajets1 = cyclistes1.select(\"id\", \"timestamp\", \"numero_trajet\").where(cyclistes.sur_velo==1)"
   ]
  },
  {
   "cell_type": "code",
   "execution_count": 39,
   "metadata": {},
   "outputs": [
    {
     "name": "stdout",
     "output_type": "stream",
     "text": [
      "+---+-------------------+-------------+\n",
      "| id|          timestamp|numero_trajet|\n",
      "+---+-------------------+-------------+\n",
      "|  2|2018-01-01 12:33:00|            1|\n",
      "|  2|2018-01-01 12:34:00|            1|\n",
      "|  2|2018-01-01 12:35:00|            1|\n",
      "|  2|2018-01-01 12:36:00|            1|\n",
      "|  2|2018-01-01 19:59:00|            2|\n",
      "|  2|2018-01-01 20:00:00|            2|\n",
      "|  2|2018-01-02 12:33:00|            3|\n",
      "|  2|2018-01-02 12:34:00|            3|\n",
      "|  2|2018-01-02 19:59:00|            4|\n",
      "|  2|2018-01-02 20:00:00|            4|\n",
      "+---+-------------------+-------------+\n",
      "only showing top 10 rows\n",
      "\n"
     ]
    }
   ],
   "source": [
    "trajets1.select(\"id\", \"timestamp\", \"numero_trajet\").orderBy('id', 'timestamp').show(10)"
   ]
  },
  {
   "cell_type": "markdown",
   "metadata": {},
   "source": [
    "Solution 2 :"
   ]
  },
  {
   "cell_type": "code",
   "execution_count": 12,
   "metadata": {},
   "outputs": [],
   "source": [
    "windowval = Window.orderBy([\"id\", \"timestamp\"]).partitionBy(\"id\")\n",
    "windowval = windowval.rangeBetween(Window.unboundedPreceding, 0)"
   ]
  },
  {
   "cell_type": "code",
   "execution_count": 13,
   "metadata": {},
   "outputs": [],
   "source": [
    "cyclistes2 = cyclistes.withColumn(\"numero_trajet\", F.sum(\"changement\").over(windowval))"
   ]
  },
  {
   "cell_type": "code",
   "execution_count": 14,
   "metadata": {
    "scrolled": true
   },
   "outputs": [
    {
     "name": "stdout",
     "output_type": "stream",
     "text": [
      "+---+-------------------+--------+----------+-------------+\n",
      "| id|          timestamp|sur_velo|changement|numero_trajet|\n",
      "+---+-------------------+--------+----------+-------------+\n",
      "|  2|2018-01-01 12:33:00|    true|         1|            1|\n",
      "|  2|2018-01-01 12:34:00|    true|         0|            1|\n",
      "|  2|2018-01-01 12:35:00|    true|         0|            1|\n",
      "|  2|2018-01-01 12:36:00|    true|         0|            1|\n",
      "|  2|2018-01-01 19:59:00|    true|         1|            3|\n",
      "|  2|2018-01-01 20:00:00|    true|         0|            3|\n",
      "|  2|2018-01-02 12:33:00|    true|         1|            5|\n",
      "|  2|2018-01-02 12:34:00|    true|         0|            5|\n",
      "|  2|2018-01-02 19:59:00|    true|         1|            7|\n",
      "|  2|2018-01-02 20:00:00|    true|         0|            7|\n",
      "+---+-------------------+--------+----------+-------------+\n",
      "only showing top 10 rows\n",
      "\n"
     ]
    }
   ],
   "source": [
    "cyclistes2.select(\"id\", \"timestamp\", \"sur_velo\", \"changement\", \"numero_trajet\").sort(\"id\", \"timestamp\").filter((cyclistes.sur_velo == True)).show(10)"
   ]
  },
  {
   "cell_type": "code",
   "execution_count": 15,
   "metadata": {},
   "outputs": [
    {
     "name": "stdout",
     "output_type": "stream",
     "text": [
      "+---+-------------------+--------+----------+-------------+\n",
      "| id|          timestamp|sur_velo|changement|numero_trajet|\n",
      "+---+-------------------+--------+----------+-------------+\n",
      "| 26|2018-01-01 07:50:00|    true|         1|            1|\n",
      "| 26|2018-01-01 07:51:00|    true|         0|            1|\n",
      "| 26|2018-01-01 17:55:00|    true|         1|            3|\n",
      "| 26|2018-01-01 17:56:00|    true|         0|            3|\n",
      "| 26|2018-01-02 07:50:00|    true|         1|            5|\n",
      "| 26|2018-01-02 07:51:00|    true|         0|            5|\n",
      "| 26|2018-01-02 17:55:00|    true|         1|            7|\n",
      "| 26|2018-01-02 17:56:00|    true|         0|            7|\n",
      "| 26|2018-01-04 07:54:00|    true|         1|            9|\n",
      "| 26|2018-01-04 07:55:00|    true|         0|            9|\n",
      "+---+-------------------+--------+----------+-------------+\n",
      "only showing top 10 rows\n",
      "\n"
     ]
    }
   ],
   "source": [
    "cyclistes2.select(\"id\", \"timestamp\", \"sur_velo\", \"changement\", \"numero_trajet\").sort(\"timestamp\").filter(cyclistes.id==26).where(cyclistes.sur_velo==1).show(10)"
   ]
  },
  {
   "cell_type": "code",
   "execution_count": 16,
   "metadata": {},
   "outputs": [],
   "source": [
    "trajets2 = cyclistes2.select(\"id\", \"timestamp\", \"numero_trajet\").where(cyclistes.sur_velo==1)"
   ]
  },
  {
   "cell_type": "markdown",
   "metadata": {},
   "source": [
    "4) Il suffit maintenant de repêter la première étape, c'est a dire récupérer le début et la fin de chaque trajet pour chaque id. Puis calculer la durée des trajets. (Pensez à récuperer les \"vrai trajet au préalable (avec un état sur_vélo = 1)."
   ]
  },
  {
   "cell_type": "code",
   "execution_count": 17,
   "metadata": {},
   "outputs": [],
   "source": [
    "trajets = trajets2.groupBy([\"id\", \"numero_trajet\"]).agg(F.min(trajets2.timestamp) , F.max(trajets2.timestamp))"
   ]
  },
  {
   "cell_type": "code",
   "execution_count": 18,
   "metadata": {},
   "outputs": [
    {
     "name": "stdout",
     "output_type": "stream",
     "text": [
      "+---+-------------+-------------------+-------------------+-----+\n",
      "| id|numero_trajet|     min(timestamp)|     max(timestamp)|Durée|\n",
      "+---+-------------+-------------------+-------------------+-----+\n",
      "|  2|            1|2018-01-01 12:33:00|2018-01-01 12:36:00|  3.0|\n",
      "|  2|            3|2018-01-01 19:59:00|2018-01-01 20:00:00|  1.0|\n",
      "|  2|            5|2018-01-02 12:33:00|2018-01-02 12:34:00|  1.0|\n",
      "|  2|            7|2018-01-02 19:59:00|2018-01-02 20:00:00|  1.0|\n",
      "|  2|            9|2018-01-03 12:33:00|2018-01-03 12:34:00|  1.0|\n",
      "|  2|           11|2018-01-03 19:59:00|2018-01-03 20:00:00|  1.0|\n",
      "|  2|           13|2018-01-04 12:33:00|2018-01-04 12:34:00|  1.0|\n",
      "|  2|           15|2018-01-04 19:59:00|2018-01-04 20:00:00|  1.0|\n",
      "|  2|           17|2018-01-05 12:33:00|2018-01-05 12:34:00|  1.0|\n",
      "|  2|           19|2018-01-05 19:59:00|2018-01-05 20:00:00|  1.0|\n",
      "+---+-------------+-------------------+-------------------+-----+\n",
      "only showing top 10 rows\n",
      "\n"
     ]
    }
   ],
   "source": [
    "duree = trajets.withColumn('Durée', (F.unix_timestamp(\"max(timestamp)\") - F.unix_timestamp('min(timestamp)'))/60)\n",
    "duree.sort(\"id\", \"numero_trajet\").show(10)\n"
   ]
  },
  {
   "cell_type": "code",
   "execution_count": null,
   "metadata": {},
   "outputs": [],
   "source": [
    "duree.sort(\"id\", \"numero_trajet\").filter(cyclistes.id==10).show(10)"
   ]
  },
  {
   "cell_type": "markdown",
   "metadata": {},
   "source": [
    "## 5) Data visualisation\n",
    "\n",
    "Convertissez votre dataframe pyspark en dataframe pandas."
   ]
  },
  {
   "cell_type": "code",
   "execution_count": 19,
   "metadata": {},
   "outputs": [
    {
     "data": {
      "text/html": [
       "<div>\n",
       "<style scoped>\n",
       "    .dataframe tbody tr th:only-of-type {\n",
       "        vertical-align: middle;\n",
       "    }\n",
       "\n",
       "    .dataframe tbody tr th {\n",
       "        vertical-align: top;\n",
       "    }\n",
       "\n",
       "    .dataframe thead th {\n",
       "        text-align: right;\n",
       "    }\n",
       "</style>\n",
       "<table border=\"1\" class=\"dataframe\">\n",
       "  <thead>\n",
       "    <tr style=\"text-align: right;\">\n",
       "      <th></th>\n",
       "      <th>id</th>\n",
       "      <th>numero_trajet</th>\n",
       "      <th>min(timestamp)</th>\n",
       "      <th>max(timestamp)</th>\n",
       "      <th>Durée</th>\n",
       "    </tr>\n",
       "  </thead>\n",
       "  <tbody>\n",
       "    <tr>\n",
       "      <th>0</th>\n",
       "      <td>2</td>\n",
       "      <td>1</td>\n",
       "      <td>2018-01-01 12:33:00</td>\n",
       "      <td>2018-01-01 12:36:00</td>\n",
       "      <td>3.0</td>\n",
       "    </tr>\n",
       "    <tr>\n",
       "      <th>1</th>\n",
       "      <td>2</td>\n",
       "      <td>3</td>\n",
       "      <td>2018-01-01 19:59:00</td>\n",
       "      <td>2018-01-01 20:00:00</td>\n",
       "      <td>1.0</td>\n",
       "    </tr>\n",
       "    <tr>\n",
       "      <th>2</th>\n",
       "      <td>2</td>\n",
       "      <td>5</td>\n",
       "      <td>2018-01-02 12:33:00</td>\n",
       "      <td>2018-01-02 12:34:00</td>\n",
       "      <td>1.0</td>\n",
       "    </tr>\n",
       "    <tr>\n",
       "      <th>3</th>\n",
       "      <td>2</td>\n",
       "      <td>7</td>\n",
       "      <td>2018-01-02 19:59:00</td>\n",
       "      <td>2018-01-02 20:00:00</td>\n",
       "      <td>1.0</td>\n",
       "    </tr>\n",
       "    <tr>\n",
       "      <th>4</th>\n",
       "      <td>2</td>\n",
       "      <td>9</td>\n",
       "      <td>2018-01-03 12:33:00</td>\n",
       "      <td>2018-01-03 12:34:00</td>\n",
       "      <td>1.0</td>\n",
       "    </tr>\n",
       "    <tr>\n",
       "      <th>...</th>\n",
       "      <td>...</td>\n",
       "      <td>...</td>\n",
       "      <td>...</td>\n",
       "      <td>...</td>\n",
       "      <td>...</td>\n",
       "    </tr>\n",
       "    <tr>\n",
       "      <th>1759</th>\n",
       "      <td>51</td>\n",
       "      <td>59</td>\n",
       "      <td>2018-01-26 16:39:00</td>\n",
       "      <td>2018-01-26 17:31:00</td>\n",
       "      <td>52.0</td>\n",
       "    </tr>\n",
       "    <tr>\n",
       "      <th>1760</th>\n",
       "      <td>51</td>\n",
       "      <td>61</td>\n",
       "      <td>2018-01-29 06:29:00</td>\n",
       "      <td>2018-01-29 08:48:00</td>\n",
       "      <td>139.0</td>\n",
       "    </tr>\n",
       "    <tr>\n",
       "      <th>1761</th>\n",
       "      <td>51</td>\n",
       "      <td>63</td>\n",
       "      <td>2018-01-29 17:08:00</td>\n",
       "      <td>2018-01-29 18:47:00</td>\n",
       "      <td>99.0</td>\n",
       "    </tr>\n",
       "    <tr>\n",
       "      <th>1762</th>\n",
       "      <td>51</td>\n",
       "      <td>65</td>\n",
       "      <td>2018-01-30 06:29:00</td>\n",
       "      <td>2018-01-30 09:45:00</td>\n",
       "      <td>196.0</td>\n",
       "    </tr>\n",
       "    <tr>\n",
       "      <th>1763</th>\n",
       "      <td>51</td>\n",
       "      <td>67</td>\n",
       "      <td>2018-01-30 13:56:00</td>\n",
       "      <td>2018-01-30 14:48:00</td>\n",
       "      <td>52.0</td>\n",
       "    </tr>\n",
       "  </tbody>\n",
       "</table>\n",
       "<p>1764 rows × 5 columns</p>\n",
       "</div>"
      ],
      "text/plain": [
       "      id  numero_trajet      min(timestamp)      max(timestamp)  Durée\n",
       "0      2              1 2018-01-01 12:33:00 2018-01-01 12:36:00    3.0\n",
       "1      2              3 2018-01-01 19:59:00 2018-01-01 20:00:00    1.0\n",
       "2      2              5 2018-01-02 12:33:00 2018-01-02 12:34:00    1.0\n",
       "3      2              7 2018-01-02 19:59:00 2018-01-02 20:00:00    1.0\n",
       "4      2              9 2018-01-03 12:33:00 2018-01-03 12:34:00    1.0\n",
       "...   ..            ...                 ...                 ...    ...\n",
       "1759  51             59 2018-01-26 16:39:00 2018-01-26 17:31:00   52.0\n",
       "1760  51             61 2018-01-29 06:29:00 2018-01-29 08:48:00  139.0\n",
       "1761  51             63 2018-01-29 17:08:00 2018-01-29 18:47:00   99.0\n",
       "1762  51             65 2018-01-30 06:29:00 2018-01-30 09:45:00  196.0\n",
       "1763  51             67 2018-01-30 13:56:00 2018-01-30 14:48:00   52.0\n",
       "\n",
       "[1764 rows x 5 columns]"
      ]
     },
     "execution_count": 19,
     "metadata": {},
     "output_type": "execute_result"
    }
   ],
   "source": [
    "df_pandas = duree.sort(\"id\", \"numero_trajet\").toPandas()\n",
    "df_pandas"
   ]
  },
  {
   "cell_type": "code",
   "execution_count": 20,
   "metadata": {},
   "outputs": [],
   "source": [
    "import pandas as pd\n",
    "#pd.set_option(\"display.max_rows\", None)\n",
    "#df_pandas.head(500)"
   ]
  },
  {
   "cell_type": "markdown",
   "metadata": {},
   "source": [
    "A l'aide des librairies matplotlib et/ou seaborn, réalisez un graphique en barre montrant le temps total passé à vélo par chaque cycliste."
   ]
  },
  {
   "cell_type": "code",
   "execution_count": 21,
   "metadata": {
    "tags": []
   },
   "outputs": [],
   "source": [
    "import seaborn as sns\n",
    "%matplotlib inline"
   ]
  },
  {
   "cell_type": "code",
   "execution_count": 22,
   "metadata": {},
   "outputs": [
    {
     "data": {
      "text/html": [
       "<div>\n",
       "<style scoped>\n",
       "    .dataframe tbody tr th:only-of-type {\n",
       "        vertical-align: middle;\n",
       "    }\n",
       "\n",
       "    .dataframe tbody tr th {\n",
       "        vertical-align: top;\n",
       "    }\n",
       "\n",
       "    .dataframe thead th {\n",
       "        text-align: right;\n",
       "    }\n",
       "</style>\n",
       "<table border=\"1\" class=\"dataframe\">\n",
       "  <thead>\n",
       "    <tr style=\"text-align: right;\">\n",
       "      <th></th>\n",
       "      <th>id</th>\n",
       "      <th>sum(Durée)</th>\n",
       "    </tr>\n",
       "  </thead>\n",
       "  <tbody>\n",
       "    <tr>\n",
       "      <th>0</th>\n",
       "      <td>2</td>\n",
       "      <td>83.0</td>\n",
       "    </tr>\n",
       "    <tr>\n",
       "      <th>1</th>\n",
       "      <td>3</td>\n",
       "      <td>3657.0</td>\n",
       "    </tr>\n",
       "    <tr>\n",
       "      <th>2</th>\n",
       "      <td>4</td>\n",
       "      <td>930.0</td>\n",
       "    </tr>\n",
       "    <tr>\n",
       "      <th>3</th>\n",
       "      <td>5</td>\n",
       "      <td>384.0</td>\n",
       "    </tr>\n",
       "    <tr>\n",
       "      <th>4</th>\n",
       "      <td>6</td>\n",
       "      <td>1971.0</td>\n",
       "    </tr>\n",
       "  </tbody>\n",
       "</table>\n",
       "</div>"
      ],
      "text/plain": [
       "   id  sum(Durée)\n",
       "0   2        83.0\n",
       "1   3      3657.0\n",
       "2   4       930.0\n",
       "3   5       384.0\n",
       "4   6      1971.0"
      ]
     },
     "execution_count": 22,
     "metadata": {},
     "output_type": "execute_result"
    }
   ],
   "source": [
    "total_bike_time = duree.groupBy(\"id\").agg({\"Durée\" : \"sum\"}).sort(\"id\").toPandas()\n",
    "total_bike_time.head()"
   ]
  },
  {
   "cell_type": "code",
   "execution_count": 23,
   "metadata": {},
   "outputs": [
    {
     "name": "stderr",
     "output_type": "stream",
     "text": [
      "/tmp/ipykernel_228/2544512364.py:2: FutureWarning: \n",
      "\n",
      "Passing `palette` without assigning `hue` is deprecated and will be removed in v0.14.0. Assign the `x` variable to `hue` and set `legend=False` for the same effect.\n",
      "\n",
      "  sns.barplot(x=\"id\", y=\"sum(Durée)\", data=total_bike_time, palette=\"magma\")\n"
     ]
    },
    {
     "data": {
      "text/plain": [
       "<Axes: xlabel='id', ylabel='sum(Durée)'>"
      ]
     },
     "execution_count": 23,
     "metadata": {},
     "output_type": "execute_result"
    },
    {
     "data": {
      "image/png": "[encoded data removed]",
      "text/plain": [
       "<Figure size 1600x900 with 1 Axes>"
      ]
     },
     "metadata": {},
     "output_type": "display_data"
    }
   ],
   "source": [
    "sns.set(rc={'figure.figsize':(16, 9)})\n",
    "sns.barplot(x=\"id\", y=\"sum(Durée)\", data=total_bike_time, palette=\"magma\")"
   ]
  },
  {
   "cell_type": "markdown",
   "metadata": {},
   "source": [
    "Réalisez un graphique en barre qui affiche le temps de chaque trajet d'un cycliste. Faites en sorte qu'on puisse choisir un id et afficher les trajets de cet id."
   ]
  },
  {
   "cell_type": "code",
   "execution_count": 24,
   "metadata": {},
   "outputs": [],
   "source": [
    "def plotTrajet(ID):\n",
    "    df = duree.where(duree.id==ID).sort(\"numero_trajet\").toPandas()\n",
    "    sns.set(rc={'figure.figsize':(16, 9)})\n",
    "    sns.barplot(x=\"numero_trajet\", y=\"Durée\", data=df, palette=\"mako\")\n"
   ]
  },
  {
   "cell_type": "raw",
   "metadata": {},
   "source": [
    "WARNING : Passing `palette` without assigning `hue` is deprecated and will be removed in v0.14.0. Assign the `x` variable to `hue` and set `legend=False` for the same effect.\n",
    "\n",
    "  sns.barplot(x=\"numero_trajet\", y=\"Durée\", data=df, palette=\"mako\")"
   ]
  },
  {
   "cell_type": "code",
   "execution_count": 26,
   "metadata": {},
   "outputs": [
    {
     "name": "stderr",
     "output_type": "stream",
     "text": [
      "/tmp/ipykernel_228/1006837254.py:4: FutureWarning: \n",
      "\n",
      "Passing `palette` without assigning `hue` is deprecated and will be removed in v0.14.0. Assign the `x` variable to `hue` and set `legend=False` for the same effect.\n",
      "\n",
      "  sns.barplot(x=\"numero_trajet\", y=\"Durée\", data=df, palette=\"mako\")\n"
     ]
    },
    {
     "data": {
      "image/png": "[encoded data removed]",
      "text/plain": [
       "<Figure size 1600x900 with 1 Axes>"
      ]
     },
     "metadata": {},
     "output_type": "display_data"
    }
   ],
   "source": [
    "plotTrajet(12)"
   ]
  },
  {
   "cell_type": "markdown",
   "metadata": {
    "tags": []
   },
   "source": [
    "## 6) Sauvegarde\n",
    "\n",
    "Sauvegardez votre dataset trajets au format csv dans le dossier data."
   ]
  },
  {
   "cell_type": "code",
   "execution_count": null,
   "metadata": {
    "scrolled": true
   },
   "outputs": [],
   "source": [
    "duree.write.format(\"csv\").save(\"./data/trajets1.csv\")"
   ]
  }
 ],
 "metadata": {
  "kernelspec": {
   "display_name": "Python 3 (ipykernel)",
   "language": "python",
   "name": "python3"
  },
  "language_info": {
   "codemirror_mode": {
    "name": "ipython",
    "version": 3
   },
   "file_extension": ".py",
   "mimetype": "text/x-python",
   "name": "python",
   "nbconvert_exporter": "python",
   "pygments_lexer": "ipython3",
   "version": "3.11.6"
  }
 },
 "nbformat": 4,
 "nbformat_minor": 4
}
