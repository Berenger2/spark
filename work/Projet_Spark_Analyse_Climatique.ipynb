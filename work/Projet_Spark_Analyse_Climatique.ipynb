{
 "cells": [
  {
   "cell_type": "markdown",
   "id": "e9182a66",
   "metadata": {},
   "source": [
    "# Projet Apache Spark : Analyse des données climatiques mondiales"
   ]
  },
  {
   "cell_type": "markdown",
   "id": "b597f527",
   "metadata": {},
   "source": [
    "## Objectif :\n",
    "Analyser les tendances climatiques mondiales à l'aide de Spark, y compris le nettoyage des données, l'EDA et l'extraction d'informations."
   ]
  },
  {
   "cell_type": "markdown",
   "id": "4d3a44b6",
   "metadata": {},
   "source": [
    "### Jeu de données :\n",
    "[Global Surface Summary of the Day (GSOD) provenant de NOAA](https://www.ncei.noaa.gov/access/metadata/landing-page/bin/iso?id=gov.noaa.ncdc:C00516)\n"
   ]
  },
  {
   "cell_type": "markdown",
   "id": "56df410b",
   "metadata": {},
   "source": [
    "---\n",
    "## Exploration du jeu de données\n"
   ]
  },
  {
   "cell_type": "code",
   "execution_count": null,
   "id": "ae49c784",
   "metadata": {},
   "outputs": [],
   "source": [
    "# Charger les données\n",
    "# Charger le jeu de données GSOD dans Spark en tant que DataFrame (Remplacer par le chemin réel)\n",
    "# df = spark.read.csv('chemin/vers/dataset.csv', header=True, inferSchema=True)"
   ]
  },
  {
   "cell_type": "code",
   "execution_count": null,
   "id": "58f65097",
   "metadata": {},
   "outputs": [],
   "source": [
    "# Inspection du schéma et calcul des statistiques\n",
    "df.printSchema()\n",
    "df.count(), len(df.columns)"
   ]
  },
  {
   "cell_type": "markdown",
   "id": "757eec73",
   "metadata": {},
   "source": [
    "**Questions :**\n",
    "1. Combien d'enregistrements contient le jeu de données ?\n",
    "2. Quels sont les noms et types de colonnes ?\n",
    "3. Combien de stations météorologiques uniques sont présentes ?"
   ]
  },
  {
   "cell_type": "markdown",
   "id": "99cf9add",
   "metadata": {},
   "source": [
    "---\n",
    "## Nettoyage des données\n"
   ]
  },
  {
   "cell_type": "code",
   "execution_count": null,
   "id": "1c12f080",
   "metadata": {},
   "outputs": [],
   "source": [
    "# Identifier les colonnes avec des valeurs manquantes et les traiter\n",
    "# missing_values = df.select([F.count(F.when(F.col(c).isNull(), c)) for c in df.columns])"
   ]
  },
  {
   "cell_type": "code",
   "execution_count": null,
   "id": "804cbcd1",
   "metadata": {},
   "outputs": [],
   "source": [
    "# Supprimer les lignes avec des valeurs critiques manquantes\n",
    "df_cleaned = df.dropna(subset=['temperature', 'date'])"
   ]
  },
  {
   "cell_type": "markdown",
   "id": "ad4c90c8",
   "metadata": {},
   "source": [
    "**Questions :**\n",
    "1. Quelles colonnes ont le plus de valeurs manquantes ?\n",
    "2. Après nettoyage, combien d'enregistrements restent ?\n",
    "3. Quelle technique avez-vous utilisée pour traiter les valeurs manquantes dans la colonne des précipitations ?"
   ]
  },
  {
   "cell_type": "markdown",
   "id": "6b3c32d6",
   "metadata": {},
   "source": [
    "---\n",
    "## Transformation des données\n"
   ]
  },
  {
   "cell_type": "code",
   "execution_count": null,
   "id": "7476c0ba",
   "metadata": {},
   "outputs": [],
   "source": [
    "# Transformer le jeu de données\n",
    "# Ajouter de nouvelles colonnes pour l'année, le mois, le jour\n",
    "df_transformed = df_cleaned.withColumn('year', F.year(F.col('date')))\n",
    "# Classifier les jours chauds\n",
    "df_transformed = df_transformed.withColumn('is_hot', F.col('temperature') > 30)"
   ]
  },
  {
   "cell_type": "markdown",
   "id": "17cfaab9",
   "metadata": {},
   "source": [
    "**Questions :**\n",
    "1. Quels sont les 5 premiers enregistrements après le parsing de la colonne `date` ?\n",
    "2. Combien de jours ont été classés comme 'chauds' ?\n",
    "3. Quelles transformations ont été appliquées au jeu de données ?"
   ]
  },
  {
   "cell_type": "markdown",
   "id": "a46cda7b",
   "metadata": {},
   "source": [
    "---\n",
    "##  Analyse exploratoire des données (EDA)\n"
   ]
  },
  {
   "cell_type": "code",
   "execution_count": null,
   "id": "12eeaeff",
   "metadata": {},
   "outputs": [],
   "source": [
    "# Calculer les moyennes annuelles et autres statistiques\n",
    "# avg_temp_by_year = df_transformed.groupBy('year').avg('temperature')\n",
    "avg_temp_by_year.show()"
   ]
  },
  {
   "cell_type": "markdown",
   "id": "e459ceea",
   "metadata": {},
   "source": [
    "**Questions :**\n",
    "1. Quelle est la température moyenne mondiale pour 2020 ?\n",
    "2. Quelles sont les 5 stations ayant enregistré les températures moyennes les plus élevées, et où sont-elles situées ?\n",
    "3. Comment les précipitations mondiales ont-elles changé au cours des 50 dernières années ?"
   ]
  },
  {
   "cell_type": "markdown",
   "id": "f583ead3",
   "metadata": {},
   "source": [
    "---\n",
    "## Requêtes avancées\n"
   ]
  },
  {
   "cell_type": "code",
   "execution_count": null,
   "id": "432c9faf",
   "metadata": {},
   "outputs": [],
   "source": [
    "# Enregistrer comme vue SQL temporaire et exécuter des requêtes\n",
    "# df_transformed.createOrReplaceTempView('climate')\n",
    "# spark.sql('SELECT ...')"
   ]
  },
  {
   "cell_type": "markdown",
   "id": "3c008dab",
   "metadata": {},
   "source": [
    "**Questions :**\n",
    "1. Quelle a été l'année la plus froide enregistrée, et quelle était la température moyenne ?\n",
    "2. Quelle station a contribué avec le plus grand nombre d'enregistrements ?\n",
    "3. Fournissez la requête SQL utilisée pour trouver les réponses ci-dessus."
   ]
  },
  {
   "cell_type": "markdown",
   "id": "377309b5",
   "metadata": {},
   "source": [
    "---\n",
    "## Visualisation\n"
   ]
  },
  {
   "cell_type": "code",
   "execution_count": null,
   "id": "bf473b65",
   "metadata": {},
   "outputs": [],
   "source": [
    "# Exporter les données vers Pandas et créer des visualisations\n",
    "# import matplotlib.pyplot as plt\n",
    "# df_pandas = avg_temp_by_year.toPandas()\n",
    "# plt.plot(df_pandas['year'], df_pandas['avg_temperature'])"
   ]
  },
  {
   "cell_type": "markdown",
   "id": "65291c69",
   "metadata": {},
   "source": [
    "**Questions :**\n",
    "1. Quelles tendances sont visibles dans le graphique des températures moyennes mondiales ?\n",
    "2. Quelles anomalies sont présentes dans l'histogramme des précipitations ?\n",
    "3. Quelles analyses supplémentaires recommanderiez-vous en fonction des visualisations ?"
   ]
  },
  {
   "cell_type": "markdown",
   "id": "147bd6f6",
   "metadata": {},
   "source": [
    "---\n",
    "## Optimisation et réflexion\n"
   ]
  },
  {
   "cell_type": "code",
   "execution_count": null,
   "id": "e8cbf1fb",
   "metadata": {},
   "outputs": [],
   "source": [
    "# Appliquer le cache et le repartitionnement\n",
    "# df_transformed.cache()\n",
    "# df_repartitioned = df_transformed.repartition(4)"
   ]
  },
  {
   "cell_type": "markdown",
   "id": "4eda5aa6",
   "metadata": {},
   "source": [
    "**Questions :**\n",
    "1. Comment la mise en cache a-t-elle amélioré les performances de vos requêtes ?\n",
    "2. Comment le repartitionnement a-t-il affecté le temps d'exécution des tâches ?\n",
    "3. Résumez l'information la plus surprenante que vous avez dérivée du jeu de données."
   ]
  }
 ],
 "metadata": {
  "kernelspec": {
   "display_name": "Python 3 (ipykernel)",
   "language": "python",
   "name": "python3"
  },
  "language_info": {
   "codemirror_mode": {
    "name": "ipython",
    "version": 3
   },
   "file_extension": ".py",
   "mimetype": "text/x-python",
   "name": "python",
   "nbconvert_exporter": "python",
   "pygments_lexer": "ipython3",
   "version": "3.11.6"
  }
 },
 "nbformat": 4,
 "nbformat_minor": 5
}
